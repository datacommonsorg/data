{
 "cells": [
  {
   "cell_type": "code",
   "execution_count": 94,
   "metadata": {},
   "outputs": [],
   "source": [
    "import pandas as pd\n",
    "import numpy as np"
   ]
  },
  {
   "cell_type": "code",
   "execution_count": 95,
   "metadata": {},
   "outputs": [],
   "source": [
    "confirmed = pd.read_csv('./US_State_Confirmed.csv')\n",
    "deaths = pd.read_csv('./US_State_Deaths.csv')\n",
    "# recovered = pd.read_csv('./US_State_Recovered.csv')"
   ]
  },
  {
   "cell_type": "code",
   "execution_count": 96,
   "metadata": {},
   "outputs": [
    {
     "output_type": "execute_result",
     "data": {
      "text/plain": "          2020-01-21  2020-01-22  2020-01-23  2020-01-24  2020-01-25  \\\ndcid                                                                   \ngeoId/01           0           0           0           0           0   \ngeoId/02           0           0           0           0           0   \ngeoId/04           0           0           0           0           0   \ngeoId/05           0           0           0           0           0   \ngeoId/06           0           0           0           0           1   \n\n          2020-01-26  2020-01-27  2020-01-28  2020-01-29  2020-01-30  ...  \\\ndcid                                                                  ...   \ngeoId/01           0           0           0           0           0  ...   \ngeoId/02           0           0           0           0           0  ...   \ngeoId/04           1           1           1           1           1  ...   \ngeoId/05           0           0           0           0           0  ...   \ngeoId/06           2           2           2           2           2  ...   \n\n          2020-05-23  2020-05-24  2020-05-25  2020-05-26  2020-05-27  \\\ndcid                                                                   \ngeoId/01       14149       14478       14986       15650       16032   \ngeoId/02         409         409         412         416         417   \ngeoId/04       16040       16339       16561       16783       17262   \ngeoId/05        5775        5922        6029        6180        6277   \ngeoId/06       92815       94743       97017       99925      101874   \n\n          2020-05-28  2020-05-29  2020-05-30  2020-05-31  2020-06-01  \ndcid                                                                  \ngeoId/01       16530       17031       17359       17952       18534  \ngeoId/02         430         436         441         469         476  \ngeoId/04       17763       18465       19255       19936       20123  \ngeoId/05        6538        6777        7013        7253        7443  \ngeoId/06      104071      107043      110100      113114      115643  \n\n[5 rows x 133 columns]",
      "text/html": "<div>\n<style scoped>\n    .dataframe tbody tr th:only-of-type {\n        vertical-align: middle;\n    }\n\n    .dataframe tbody tr th {\n        vertical-align: top;\n    }\n\n    .dataframe thead th {\n        text-align: right;\n    }\n</style>\n<table border=\"1\" class=\"dataframe\">\n  <thead>\n    <tr style=\"text-align: right;\">\n      <th></th>\n      <th>2020-01-21</th>\n      <th>2020-01-22</th>\n      <th>2020-01-23</th>\n      <th>2020-01-24</th>\n      <th>2020-01-25</th>\n      <th>2020-01-26</th>\n      <th>2020-01-27</th>\n      <th>2020-01-28</th>\n      <th>2020-01-29</th>\n      <th>2020-01-30</th>\n      <th>...</th>\n      <th>2020-05-23</th>\n      <th>2020-05-24</th>\n      <th>2020-05-25</th>\n      <th>2020-05-26</th>\n      <th>2020-05-27</th>\n      <th>2020-05-28</th>\n      <th>2020-05-29</th>\n      <th>2020-05-30</th>\n      <th>2020-05-31</th>\n      <th>2020-06-01</th>\n    </tr>\n    <tr>\n      <th>dcid</th>\n      <th></th>\n      <th></th>\n      <th></th>\n      <th></th>\n      <th></th>\n      <th></th>\n      <th></th>\n      <th></th>\n      <th></th>\n      <th></th>\n      <th></th>\n      <th></th>\n      <th></th>\n      <th></th>\n      <th></th>\n      <th></th>\n      <th></th>\n      <th></th>\n      <th></th>\n      <th></th>\n      <th></th>\n    </tr>\n  </thead>\n  <tbody>\n    <tr>\n      <th>geoId/01</th>\n      <td>0</td>\n      <td>0</td>\n      <td>0</td>\n      <td>0</td>\n      <td>0</td>\n      <td>0</td>\n      <td>0</td>\n      <td>0</td>\n      <td>0</td>\n      <td>0</td>\n      <td>...</td>\n      <td>14149</td>\n      <td>14478</td>\n      <td>14986</td>\n      <td>15650</td>\n      <td>16032</td>\n      <td>16530</td>\n      <td>17031</td>\n      <td>17359</td>\n      <td>17952</td>\n      <td>18534</td>\n    </tr>\n    <tr>\n      <th>geoId/02</th>\n      <td>0</td>\n      <td>0</td>\n      <td>0</td>\n      <td>0</td>\n      <td>0</td>\n      <td>0</td>\n      <td>0</td>\n      <td>0</td>\n      <td>0</td>\n      <td>0</td>\n      <td>...</td>\n      <td>409</td>\n      <td>409</td>\n      <td>412</td>\n      <td>416</td>\n      <td>417</td>\n      <td>430</td>\n      <td>436</td>\n      <td>441</td>\n      <td>469</td>\n      <td>476</td>\n    </tr>\n    <tr>\n      <th>geoId/04</th>\n      <td>0</td>\n      <td>0</td>\n      <td>0</td>\n      <td>0</td>\n      <td>0</td>\n      <td>1</td>\n      <td>1</td>\n      <td>1</td>\n      <td>1</td>\n      <td>1</td>\n      <td>...</td>\n      <td>16040</td>\n      <td>16339</td>\n      <td>16561</td>\n      <td>16783</td>\n      <td>17262</td>\n      <td>17763</td>\n      <td>18465</td>\n      <td>19255</td>\n      <td>19936</td>\n      <td>20123</td>\n    </tr>\n    <tr>\n      <th>geoId/05</th>\n      <td>0</td>\n      <td>0</td>\n      <td>0</td>\n      <td>0</td>\n      <td>0</td>\n      <td>0</td>\n      <td>0</td>\n      <td>0</td>\n      <td>0</td>\n      <td>0</td>\n      <td>...</td>\n      <td>5775</td>\n      <td>5922</td>\n      <td>6029</td>\n      <td>6180</td>\n      <td>6277</td>\n      <td>6538</td>\n      <td>6777</td>\n      <td>7013</td>\n      <td>7253</td>\n      <td>7443</td>\n    </tr>\n    <tr>\n      <th>geoId/06</th>\n      <td>0</td>\n      <td>0</td>\n      <td>0</td>\n      <td>0</td>\n      <td>1</td>\n      <td>2</td>\n      <td>2</td>\n      <td>2</td>\n      <td>2</td>\n      <td>2</td>\n      <td>...</td>\n      <td>92815</td>\n      <td>94743</td>\n      <td>97017</td>\n      <td>99925</td>\n      <td>101874</td>\n      <td>104071</td>\n      <td>107043</td>\n      <td>110100</td>\n      <td>113114</td>\n      <td>115643</td>\n    </tr>\n  </tbody>\n</table>\n<p>5 rows × 133 columns</p>\n</div>"
     },
     "metadata": {},
     "execution_count": 96
    }
   ],
   "source": [
    "confirmed[\"fips\"] = confirmed.fips.map(\"{:02}\".format)\n",
    "confirmed['dcid'] = 'geoId/' + confirmed['fips'].astype(str)\n",
    "\n",
    "confirmed = confirmed.drop(['fips', 'NAME', 'POP70', 'HHD70', 'POP80', 'HHD80', 'POP90', 'HHD90', 'POP00', 'HHD00', 'POP10', 'HHD10'], axis=1)\n",
    "confirmed = confirmed.set_index(\"dcid\")\n",
    "\n",
    "confirmed.head()"
   ]
  },
  {
   "cell_type": "code",
   "execution_count": 97,
   "metadata": {},
   "outputs": [
    {
     "output_type": "execute_result",
     "data": {
      "text/plain": "          2020-01-21  2020-01-22  2020-01-23  2020-01-24  2020-01-25  \\\ndcid                                                                   \ngeoId/01           0           0           0           0           0   \ngeoId/02           0           0           0           0           0   \ngeoId/04           0           0           0           0           0   \ngeoId/05           0           0           0           0           0   \ngeoId/06           0           0           0           0           0   \n\n          2020-01-26  2020-01-27  2020-01-28  2020-01-29  2020-01-30  ...  \\\ndcid                                                                  ...   \ngeoId/01           0           0           0           0           0  ...   \ngeoId/02           0           0           0           0           0  ...   \ngeoId/04           0           0           0           0           0  ...   \ngeoId/05           0           0           0           0           0  ...   \ngeoId/06           0           0           0           0           0  ...   \n\n          2020-05-23  2020-05-24  2020-05-25  2020-05-26  2020-05-27  \\\ndcid                                                                   \ngeoId/01         549         551         566         580         583   \ngeoId/02           8           8           8           8           8   \ngeoId/04         799         800         806         807         831   \ngeoId/05         115         116         117         119         120   \ngeoId/06        3768        3790        3808        3859        3961   \n\n          2020-05-28  2020-05-29  2020-05-30  2020-05-31  2020-06-01  \ndcid                                                                  \ngeoId/01         591         610         618         630         646  \ngeoId/02           8           8           8           8           8  \ngeoId/04         857         885         903         906         918  \ngeoId/05         125         132         133         133         133  \ngeoId/06        4042        4144        4214        4242        4287  \n\n[5 rows x 133 columns]",
      "text/html": "<div>\n<style scoped>\n    .dataframe tbody tr th:only-of-type {\n        vertical-align: middle;\n    }\n\n    .dataframe tbody tr th {\n        vertical-align: top;\n    }\n\n    .dataframe thead th {\n        text-align: right;\n    }\n</style>\n<table border=\"1\" class=\"dataframe\">\n  <thead>\n    <tr style=\"text-align: right;\">\n      <th></th>\n      <th>2020-01-21</th>\n      <th>2020-01-22</th>\n      <th>2020-01-23</th>\n      <th>2020-01-24</th>\n      <th>2020-01-25</th>\n      <th>2020-01-26</th>\n      <th>2020-01-27</th>\n      <th>2020-01-28</th>\n      <th>2020-01-29</th>\n      <th>2020-01-30</th>\n      <th>...</th>\n      <th>2020-05-23</th>\n      <th>2020-05-24</th>\n      <th>2020-05-25</th>\n      <th>2020-05-26</th>\n      <th>2020-05-27</th>\n      <th>2020-05-28</th>\n      <th>2020-05-29</th>\n      <th>2020-05-30</th>\n      <th>2020-05-31</th>\n      <th>2020-06-01</th>\n    </tr>\n    <tr>\n      <th>dcid</th>\n      <th></th>\n      <th></th>\n      <th></th>\n      <th></th>\n      <th></th>\n      <th></th>\n      <th></th>\n      <th></th>\n      <th></th>\n      <th></th>\n      <th></th>\n      <th></th>\n      <th></th>\n      <th></th>\n      <th></th>\n      <th></th>\n      <th></th>\n      <th></th>\n      <th></th>\n      <th></th>\n      <th></th>\n    </tr>\n  </thead>\n  <tbody>\n    <tr>\n      <th>geoId/01</th>\n      <td>0</td>\n      <td>0</td>\n      <td>0</td>\n      <td>0</td>\n      <td>0</td>\n      <td>0</td>\n      <td>0</td>\n      <td>0</td>\n      <td>0</td>\n      <td>0</td>\n      <td>...</td>\n      <td>549</td>\n      <td>551</td>\n      <td>566</td>\n      <td>580</td>\n      <td>583</td>\n      <td>591</td>\n      <td>610</td>\n      <td>618</td>\n      <td>630</td>\n      <td>646</td>\n    </tr>\n    <tr>\n      <th>geoId/02</th>\n      <td>0</td>\n      <td>0</td>\n      <td>0</td>\n      <td>0</td>\n      <td>0</td>\n      <td>0</td>\n      <td>0</td>\n      <td>0</td>\n      <td>0</td>\n      <td>0</td>\n      <td>...</td>\n      <td>8</td>\n      <td>8</td>\n      <td>8</td>\n      <td>8</td>\n      <td>8</td>\n      <td>8</td>\n      <td>8</td>\n      <td>8</td>\n      <td>8</td>\n      <td>8</td>\n    </tr>\n    <tr>\n      <th>geoId/04</th>\n      <td>0</td>\n      <td>0</td>\n      <td>0</td>\n      <td>0</td>\n      <td>0</td>\n      <td>0</td>\n      <td>0</td>\n      <td>0</td>\n      <td>0</td>\n      <td>0</td>\n      <td>...</td>\n      <td>799</td>\n      <td>800</td>\n      <td>806</td>\n      <td>807</td>\n      <td>831</td>\n      <td>857</td>\n      <td>885</td>\n      <td>903</td>\n      <td>906</td>\n      <td>918</td>\n    </tr>\n    <tr>\n      <th>geoId/05</th>\n      <td>0</td>\n      <td>0</td>\n      <td>0</td>\n      <td>0</td>\n      <td>0</td>\n      <td>0</td>\n      <td>0</td>\n      <td>0</td>\n      <td>0</td>\n      <td>0</td>\n      <td>...</td>\n      <td>115</td>\n      <td>116</td>\n      <td>117</td>\n      <td>119</td>\n      <td>120</td>\n      <td>125</td>\n      <td>132</td>\n      <td>133</td>\n      <td>133</td>\n      <td>133</td>\n    </tr>\n    <tr>\n      <th>geoId/06</th>\n      <td>0</td>\n      <td>0</td>\n      <td>0</td>\n      <td>0</td>\n      <td>0</td>\n      <td>0</td>\n      <td>0</td>\n      <td>0</td>\n      <td>0</td>\n      <td>0</td>\n      <td>...</td>\n      <td>3768</td>\n      <td>3790</td>\n      <td>3808</td>\n      <td>3859</td>\n      <td>3961</td>\n      <td>4042</td>\n      <td>4144</td>\n      <td>4214</td>\n      <td>4242</td>\n      <td>4287</td>\n    </tr>\n  </tbody>\n</table>\n<p>5 rows × 133 columns</p>\n</div>"
     },
     "metadata": {},
     "execution_count": 97
    }
   ],
   "source": [
    "deaths[\"fips\"] = deaths.fips.map(\"{:02}\".format)\n",
    "deaths['dcid'] = 'geoId/' + deaths['fips'].astype(str)\n",
    "\n",
    "deaths = deaths.drop(['fips', 'NAME', 'POP70', 'HHD70', 'POP80', 'HHD80', 'POP90', 'HHD90', 'POP00', 'HHD00', 'POP10', 'HHD10'], axis=1)\n",
    "deaths = deaths.set_index(\"dcid\")\n",
    "\n",
    "deaths.head()"
   ]
  },
  {
   "cell_type": "code",
   "execution_count": 98,
   "metadata": {},
   "outputs": [],
   "source": [
    "# recovered[\"fips\"] = recovered.STATE.map(\"{:02}\".format)\n",
    "# recovered['dcid'] = 'geoId/' + recovered['fips'].astype(str)\n",
    "\n",
    "# recovered = recovered.drop(['fips', 'NAME', 'POP70', 'HHD70', 'POP80', 'HHD80', 'POP90', 'HHD90', 'POP00', 'HHD00', 'POP10', 'HHD10'], axis=1)\n",
    "\n",
    "# recovered = recovered.set_index(\"dcid\")\n",
    "\n",
    "# recovered.head()"
   ]
  },
  {
   "cell_type": "code",
   "execution_count": 90,
   "metadata": {
    "tags": [
     "outputPrepend",
     "outputPrepend",
     "outputPrepend",
     "outputPrepend",
     "outputPrepend",
     "outputPrepend",
     "outputPrepend",
     "outputPrepend",
     "outputPrepend"
    ]
   },
   "outputs": [],
   "source": [
    "new_df = pd.DataFrame({})\n",
    "for dcid in confirmed.index:\n",
    "    for date in confirmed:\n",
    "        try:\n",
    "            confirmed_val = confirmed[date][dcid]\n",
    "        except:\n",
    "            confirmed_val = np.nan\n",
    "\n",
    "        try:\n",
    "            deaths_val = deaths[date][dcid]\n",
    "        except:\n",
    "            deaths_val = np.nan\n",
    "\n",
    "        # try:\n",
    "        #     recovered_val = recovered[date][dcid]\n",
    "        # except:\n",
    "        #     recovered_val = np.nan\n",
    "\n",
    "        new_df = new_df.append({\n",
    "            \"Date\": date,\n",
    "            \"GeoId\": dcid,\n",
    "            \"COVID19CumulativeCases\": confirmed_val,\n",
    "            \"COVID19CumulativeDeaths\": deaths_val\n",
    "            },\n",
    "        ignore_index=True)\n",
    "export_df = new_df"
   ]
  },
  {
   "cell_type": "code",
   "execution_count": 91,
   "metadata": {},
   "outputs": [],
   "source": [
    "export_df.to_csv(\"./State_COVID_Harvard.csv\")"
   ]
  },
  {
   "cell_type": "code",
   "execution_count": 93,
   "metadata": {},
   "outputs": [
    {
     "output_type": "execute_result",
     "data": {
      "text/plain": "          STATE  1/22/20  1/23/20  1/24/20  1/25/20  1/26/20  1/27/20  \\\ndcid                                                                    \ngeoId/01      1        0        0        0        0        0        0   \ngeoId/02      2        0        0        0        0        0        0   \ngeoId/04      4        0        0        0        0        0        0   \ngeoId/05      5        0        0        0        0        0        0   \ngeoId/06      6        0        0        0        0        0        0   \n\n          1/28/20  1/29/20  1/30/20  ...  3/13/20  3/14/20  3/15/20  3/16/20  \\\ndcid                                 ...                                       \ngeoId/01        0        0        0  ...        0        0        0        0   \ngeoId/02        0        0        0  ...        0        0        0        0   \ngeoId/04        0        0        0  ...        1        1        1        1   \ngeoId/05        0        0        0  ...        0        0        0        0   \ngeoId/06        0        0        0  ...        6        6        6        6   \n\n          3/17/20  3/18/20  3/19/20  3/20/20  3/21/20  3/22/20  \ndcid                                                            \ngeoId/01        0        0        0        0        0        0  \ngeoId/02        0        0        0        0        0        0  \ngeoId/04        1        0        0        0        0        0  \ngeoId/05        0        0        0        0        0        0  \ngeoId/06        6        0        0        0        0        0  \n\n[5 rows x 62 columns]",
      "text/html": "<div>\n<style scoped>\n    .dataframe tbody tr th:only-of-type {\n        vertical-align: middle;\n    }\n\n    .dataframe tbody tr th {\n        vertical-align: top;\n    }\n\n    .dataframe thead th {\n        text-align: right;\n    }\n</style>\n<table border=\"1\" class=\"dataframe\">\n  <thead>\n    <tr style=\"text-align: right;\">\n      <th></th>\n      <th>STATE</th>\n      <th>1/22/20</th>\n      <th>1/23/20</th>\n      <th>1/24/20</th>\n      <th>1/25/20</th>\n      <th>1/26/20</th>\n      <th>1/27/20</th>\n      <th>1/28/20</th>\n      <th>1/29/20</th>\n      <th>1/30/20</th>\n      <th>...</th>\n      <th>3/13/20</th>\n      <th>3/14/20</th>\n      <th>3/15/20</th>\n      <th>3/16/20</th>\n      <th>3/17/20</th>\n      <th>3/18/20</th>\n      <th>3/19/20</th>\n      <th>3/20/20</th>\n      <th>3/21/20</th>\n      <th>3/22/20</th>\n    </tr>\n    <tr>\n      <th>dcid</th>\n      <th></th>\n      <th></th>\n      <th></th>\n      <th></th>\n      <th></th>\n      <th></th>\n      <th></th>\n      <th></th>\n      <th></th>\n      <th></th>\n      <th></th>\n      <th></th>\n      <th></th>\n      <th></th>\n      <th></th>\n      <th></th>\n      <th></th>\n      <th></th>\n      <th></th>\n      <th></th>\n      <th></th>\n    </tr>\n  </thead>\n  <tbody>\n    <tr>\n      <th>geoId/01</th>\n      <td>1</td>\n      <td>0</td>\n      <td>0</td>\n      <td>0</td>\n      <td>0</td>\n      <td>0</td>\n      <td>0</td>\n      <td>0</td>\n      <td>0</td>\n      <td>0</td>\n      <td>...</td>\n      <td>0</td>\n      <td>0</td>\n      <td>0</td>\n      <td>0</td>\n      <td>0</td>\n      <td>0</td>\n      <td>0</td>\n      <td>0</td>\n      <td>0</td>\n      <td>0</td>\n    </tr>\n    <tr>\n      <th>geoId/02</th>\n      <td>2</td>\n      <td>0</td>\n      <td>0</td>\n      <td>0</td>\n      <td>0</td>\n      <td>0</td>\n      <td>0</td>\n      <td>0</td>\n      <td>0</td>\n      <td>0</td>\n      <td>...</td>\n      <td>0</td>\n      <td>0</td>\n      <td>0</td>\n      <td>0</td>\n      <td>0</td>\n      <td>0</td>\n      <td>0</td>\n      <td>0</td>\n      <td>0</td>\n      <td>0</td>\n    </tr>\n    <tr>\n      <th>geoId/04</th>\n      <td>4</td>\n      <td>0</td>\n      <td>0</td>\n      <td>0</td>\n      <td>0</td>\n      <td>0</td>\n      <td>0</td>\n      <td>0</td>\n      <td>0</td>\n      <td>0</td>\n      <td>...</td>\n      <td>1</td>\n      <td>1</td>\n      <td>1</td>\n      <td>1</td>\n      <td>1</td>\n      <td>0</td>\n      <td>0</td>\n      <td>0</td>\n      <td>0</td>\n      <td>0</td>\n    </tr>\n    <tr>\n      <th>geoId/05</th>\n      <td>5</td>\n      <td>0</td>\n      <td>0</td>\n      <td>0</td>\n      <td>0</td>\n      <td>0</td>\n      <td>0</td>\n      <td>0</td>\n      <td>0</td>\n      <td>0</td>\n      <td>...</td>\n      <td>0</td>\n      <td>0</td>\n      <td>0</td>\n      <td>0</td>\n      <td>0</td>\n      <td>0</td>\n      <td>0</td>\n      <td>0</td>\n      <td>0</td>\n      <td>0</td>\n    </tr>\n    <tr>\n      <th>geoId/06</th>\n      <td>6</td>\n      <td>0</td>\n      <td>0</td>\n      <td>0</td>\n      <td>0</td>\n      <td>0</td>\n      <td>0</td>\n      <td>0</td>\n      <td>0</td>\n      <td>0</td>\n      <td>...</td>\n      <td>6</td>\n      <td>6</td>\n      <td>6</td>\n      <td>6</td>\n      <td>6</td>\n      <td>0</td>\n      <td>0</td>\n      <td>0</td>\n      <td>0</td>\n      <td>0</td>\n    </tr>\n  </tbody>\n</table>\n<p>5 rows × 62 columns</p>\n</div>"
     },
     "metadata": {},
     "execution_count": 93
    }
   ],
   "source": [
    "recovered.head()"
   ]
  },
  {
   "cell_type": "code",
   "execution_count": null,
   "metadata": {},
   "outputs": [],
   "source": []
  }
 ],
 "metadata": {
  "language_info": {
   "codemirror_mode": {
    "name": "ipython",
    "version": 3
   },
   "file_extension": ".py",
   "mimetype": "text/x-python",
   "name": "python",
   "nbconvert_exporter": "python",
   "pygments_lexer": "ipython3",
   "version": "3.7.3-final"
  },
  "orig_nbformat": 2,
  "kernelspec": {
   "name": "python37364bitef13daa544ef45a282ed893b88dc51d0",
   "display_name": "Python 3.7.3 64-bit"
  }
 },
 "nbformat": 4,
 "nbformat_minor": 2
}