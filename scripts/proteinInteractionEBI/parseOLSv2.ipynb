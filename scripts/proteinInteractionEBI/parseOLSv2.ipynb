{
 "cells": [
  {
   "cell_type": "code",
   "execution_count": 1,
   "metadata": {},
   "outputs": [],
   "source": [
    "import collections\n",
    "#todo: divide the terms into ohters, interactionType, detectionMethod, Interaction Source"
   ]
  },
  {
   "cell_type": "code",
   "execution_count": 20,
   "metadata": {},
   "outputs": [
    {
     "data": {
      "text/plain": [
       "'\\nJune 10, 2020\\nParsing Steps:\\n1. build the tree by the psi-mi number\\n2. save all the tree nodes in the subtree of the three nodes into three set:\\n    id: MI:0001 name: interaction detection method\\n    id: MI:0190 name: interaction type\\n    id: MI:0444 name: database citation\\n3. save the nodes in the three sets to the corresponding enumearation schema\\n'"
      ]
     },
     "execution_count": 20,
     "metadata": {},
     "output_type": "execute_result"
    }
   ],
   "source": [
    "\"\"\"\n",
    "June 10, 2020\n",
    "Parsing Steps:\n",
    "1. build the tree by the psi-mi number. A dictionary {psi-mi: node} is used \n",
    "to access nodes as well.\n",
    "2. save all the tree nodes in the subtree of the three nodes into three set:\n",
    "    id: MI:0001 name: interaction detection method\n",
    "    id: MI:0190 name: interaction type\n",
    "    id: MI:0444 name: database citation\n",
    "3. save the nodes in the three sets to the corresponding enumearation schema\n",
    "\"\"\""
   ]
  },
  {
   "cell_type": "code",
   "execution_count": 21,
   "metadata": {},
   "outputs": [],
   "source": [
    "with open('mi.owl','r') as fp:\n",
    "    file = fp.read()"
   ]
  },
  {
   "cell_type": "code",
   "execution_count": 22,
   "metadata": {},
   "outputs": [],
   "source": [
    "#get the file instruction and save into a dictionary\n",
    "fileHeader = file.split('\\n\\n')[0]"
   ]
  },
  {
   "cell_type": "code",
   "execution_count": 4,
   "metadata": {},
   "outputs": [],
   "source": [
    "fileHeaderDic = collections.defaultdict(list)\n",
    "pairs = fileHeader.split(\"\\n\")\n",
    "for pair in pairs:\n",
    "    pairList = pair.split(\":\")\n",
    "    key = pairList[0]\n",
    "    value = \":\".join(pairList[1:])\n",
    "    fileHeaderDic[key].append(value)"
   ]
  },
  {
   "cell_type": "code",
   "execution_count": 5,
   "metadata": {},
   "outputs": [
    {
     "data": {
      "text/plain": [
       "dict_keys(['format-version', 'date', 'saved-by', 'auto-generated-by', 'subsetdef', 'synonymtypedef', 'default-namespace', 'remark', 'ontology'])"
      ]
     },
     "execution_count": 5,
     "metadata": {},
     "output_type": "execute_result"
    }
   ],
   "source": [
    "fileHeaderDic.keys()"
   ]
  },
  {
   "cell_type": "code",
   "execution_count": 6,
   "metadata": {},
   "outputs": [],
   "source": [
    "#In this version synonym is saved as a string and is not linked to each synonym type."
   ]
  },
  {
   "cell_type": "code",
   "execution_count": 7,
   "metadata": {},
   "outputs": [],
   "source": [
    "#Three subsets are saved to enumeration schema \n",
    "schemaPiece = \"\"\"Node: dcid:BiomedicalOntologySubsetEnum\n",
    "typeOf: schema:Enumeration\n",
    "name: \"BiomedicalOntologySubsetEnum\"\n",
    "description: \\\"The subset enumeration in biomedical ontologies\\\"\"\"\"\n",
    "schemaEnum = [schemaPiece]\n",
    "\n",
    "for subsetPair in fileHeaderDic['subsetdef']:\n",
    "    subsetList = subsetPair.split()  \n",
    "    dcid = subsetList[0]\n",
    "    description = ' '.join(subsetList[1:])\n",
    "    schemaPiece = 'Node: dcid:' + dcid + '\\n'+\\\n",
    "'typeOf: dcs:BiomedicalOntologySubsetEnum\\nname: “'+dcid+'”\\ndescription: '+\\\n",
    "description\n",
    "    schemaEnum.append(schemaPiece)\n",
    "schemaEnumText = '\\n\\n'.join(schemaEnum)"
   ]
  },
  {
   "cell_type": "code",
   "execution_count": null,
   "metadata": {},
   "outputs": [],
   "source": [
    "class Node(Object):\n",
    "    def __init__(self, value):\n",
    "        self.id = value\n",
    "        # one node can have multiple parent nodes\n",
    "        self.parent = []\n",
    "        # one node can have multiple child nodes\n",
    "        self.child = []\n",
    "id2node = {}\n",
    "# build nodes and create the id2node dictionary at first iteration\n",
    "for termText in fileTerm:\n",
    "    if not termText.startswith(\"[Term]\"):\n",
    "        continue\n",
    "    # idString example: \"MI:0000\"\n",
    "    idString = termText.split(\"\\n\")[1].split(\" \")[1]\n",
    "    id2node[idString] = Node(idString)\n",
    "\n",
    "for termText in fileTerm:\n",
    "    \n",
    "    \n",
    "    \n",
    "# build the parent-child relation\n",
    "\n"
   ]
  },
  {
   "cell_type": "code",
   "execution_count": 24,
   "metadata": {},
   "outputs": [
    {
     "data": {
      "text/plain": [
       "['[Term]',\n",
       " 'id: MI:0000',\n",
       " 'name: molecular interaction',\n",
       " 'def: \"Controlled vocabularies originally created for protein protein interactions, extended to other molecules interactions.\" [PMID:14755292]',\n",
       " 'subset: Drugable',\n",
       " 'subset: PSI-MI_slim',\n",
       " 'synonym: \"mi\" EXACT PSI-MI-short []']"
      ]
     },
     "execution_count": 24,
     "metadata": {},
     "output_type": "execute_result"
    }
   ],
   "source": [
    "fileTerms[0].split(\"\\n\")"
   ]
  },
  {
   "cell_type": "code",
   "execution_count": 8,
   "metadata": {},
   "outputs": [],
   "source": [
    "with open('BioOntologySubsetEnumSchema.mcf','w') as fp:\n",
    "    fp.write(schemaEnumText)"
   ]
  },
  {
   "cell_type": "code",
   "execution_count": 9,
   "metadata": {},
   "outputs": [],
   "source": [
    "fileTerms = file.split('\\n\\n')[1:]"
   ]
  },
  {
   "cell_type": "code",
   "execution_count": 17,
   "metadata": {},
   "outputs": [],
   "source": [
    "def getSchemaFromText(term):\n",
    "    \"\"\"\n",
    "    Takes a list with each item containing the information, return a data schema. \n",
    "    Example:\n",
    "    term = ['id: MI:0000',\n",
    "     'name: molecular interaction',\n",
    "     'def: \"Controlled vocabularies originally created for protein protein interactions, extended to other molecules interactions.\" [PMID:14755292]',\n",
    "     'subset: Drugable',\n",
    "     'subset: PSI-MI_slim']\n",
    "    \"\"\"\n",
    "    termDic = collections.defaultdict(list)\n",
    "    for line in term:\n",
    "        lineList = line.split(\": \")\n",
    "        key = lineList[0]\n",
    "        value = \": \".join(lineList[1:])\n",
    "        termDic[key].append(value)\n",
    "    try:\n",
    "        defLong = termDic['def'][0]\n",
    "    except:\n",
    "        print(\"No def attribute\",term)\n",
    "    try:\n",
    "        idStart = defLong.rfind('[')\n",
    "        description = defLong[:idStart]\n",
    "        termDic['def'] = [description]\n",
    "        IDList = defLong[idStart+1:-1].split(\", \")\n",
    "        termDic['pubID']= IDList\n",
    "        \n",
    "    except:\n",
    "        print(defLong)\n",
    "    \n",
    "    schemaPieceList = []\n",
    "    keyList = [\"name\",\"def\",\"pubID\",\"subset\",\"synonym\",\"is_obsolete\", \"is_a\",\"relationship\"]\n",
    "    key = \"id\"\n",
    "    curLine = \"Node: dcid:bio/psimi_\" + \"\".join(termDic[key][0].split(':'))\n",
    "    schemaPieceList.append(curLine)\n",
    "    curLine = \"typeOf: dcs:MolecularInteractionOntology\"\n",
    "    schemaPieceList.append(curLine)\n",
    "    \n",
    "    termDic['def'] = [\"\\\"\"+ termDic['name'][0][0].upper() + termDic['name'][0][1:]  + \": \" + termDic['def'][0][1:]]\n",
    "    termDic['name'] = [\"psimi_\" + \"\".join(termDic[key][0].split(':'))]\n",
    "\n",
    "    for key in keyList:\n",
    "\n",
    "        if key==\"name\" and key in termDic:\n",
    "            itemList = []\n",
    "            for i in range(len(termDic[key])):\n",
    "                itemList.append(\"\\\"\" + termDic[key][i] + \"\\\"\")\n",
    "            curLine = \"name: \" + \",\".join(itemList)\n",
    "            schemaPieceList.append(curLine)\n",
    "            \n",
    "        elif key==\"def\" and key in termDic:                \n",
    "            itemList = []\n",
    "            for i in range(len(termDic[key])):\n",
    "                itemList.append(termDic[key][i])\n",
    "            curLine = \"description: \" + \",\".join(itemList)\n",
    "            schemaPieceList.append(curLine)\n",
    "            \n",
    "        elif key==\"pubID\" and key in termDic:\n",
    "            itemList = []\n",
    "            for i in range(len(termDic[key])):\n",
    "                itemList.append( \"\\\"\" + termDic[key][i] + \"\\\"\")\n",
    "            curLine = \"pubID: \" +  \",\".join(itemList)\n",
    "            schemaPieceList.append(curLine)\n",
    "            \n",
    "        elif key==\"subset\" and key in termDic:\n",
    "            itemList = []\n",
    "            for i in range(len(termDic[key])):\n",
    "                itemList.append(termDic[key][i])\n",
    "            curLine = \"subsetOf: dcs:\"  + \",\".join(itemList)\n",
    "            schemaPieceList.append(curLine)\n",
    "            \n",
    "        elif key==\"synonym\" and key in termDic:\n",
    "            itemList = []\n",
    "            for i in range(len(termDic[key])):\n",
    "                itemList.append(\"\\\"\" + termDic[key][i] + \"\\\"\" )\n",
    "            curLine = \"synonym: \" + \",\".join(itemList)\n",
    "            schemaPieceList.append(curLine)\n",
    "                \n",
    "        elif key==\"is_obsolete\" and key in termDic:\n",
    "            itemList = []\n",
    "            for i in range(len(termDic[key])):\n",
    "                itemList.append( termDic[key][i]  )\n",
    "            curLine = \"isObsolete: \" + \",\".join(itemList)\n",
    "            schemaPieceList.append(curLine)\n",
    "            \n",
    "        elif key==\"is_a\" and key in termDic:\n",
    "            itemList = []\n",
    "            for i in range(len(termDic[key])):\n",
    "                itemList.append('dcid/bio/psimi_' + \"\".join(termDic[key][i].split(\" !\")[0].split(\":\")))\n",
    "            curLine = \"subClassOf: \" + \",\".join(itemList)\n",
    "            schemaPieceList.append(curLine)\n",
    "                \n",
    "        elif key==\"relationship\" and key in termDic:\n",
    "            itemList = []\n",
    "            for i in range(len(termDic[key])):\n",
    "                itemList.append('dcid/bio/psimi_' + \"\".join(termDic[key][i].split(\" \")[1].split(\":\")))\n",
    "            curLine = \"psimiPartOf: \" + \",\".join(itemList)\n",
    "            schemaPieceList.append(curLine)\n",
    "    return \"\\n\".join(schemaPieceList)"
   ]
  },
  {
   "cell_type": "code",
   "execution_count": 18,
   "metadata": {},
   "outputs": [],
   "source": [
    "schemaList = []\n",
    "schema = '''Node: dcid:MolecularInteractionOntology\n",
    "typeOf: schema:Class\n",
    "subClassOf: Thing\n",
    "description: \\\"A structured controlled vocabulary for the annotation of experiments concerned with protein-protein interactions.\\\"'''\n",
    "schemaList.append(schema)\n",
    "# count = 0\n",
    "for termText in fileTerms:\n",
    "    if not termText.startswith(\"[Term]\"):\n",
    "        continue\n",
    "    term = termText.split(\"\\n\")[1:]\n",
    "    schema = getSchemaFromText(term)\n",
    "    schemaList.append(schema)\n",
    "#     count+=1\n",
    "#     if count>5:\n",
    "#         break\n",
    "schemaEnumText = \"\\n\\n\".join(schemaList)\n",
    "with open('BioOntologySchema.mcf','w') as fp:\n",
    "    fp.write(schemaEnumText)\n",
    "\n",
    "    \n",
    "    "
   ]
  },
  {
   "cell_type": "code",
   "execution_count": null,
   "metadata": {},
   "outputs": [],
   "source": []
  }
 ],
 "metadata": {
  "kernelspec": {
   "display_name": "Python 3",
   "language": "python",
   "name": "python3"
  },
  "language_info": {
   "codemirror_mode": {
    "name": "ipython",
    "version": 3
   },
   "file_extension": ".py",
   "mimetype": "text/x-python",
   "name": "python",
   "nbconvert_exporter": "python",
   "pygments_lexer": "ipython3",
   "version": "3.7.6"
  }
 },
 "nbformat": 4,
 "nbformat_minor": 4
}
