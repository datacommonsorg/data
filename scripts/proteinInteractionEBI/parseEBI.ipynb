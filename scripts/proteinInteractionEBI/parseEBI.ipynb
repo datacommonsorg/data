{
 "cells": [
  {
   "cell_type": "code",
   "execution_count": 1,
   "metadata": {},
   "outputs": [],
   "source": [
    "import collections\n",
    "import re"
   ]
  },
  {
   "cell_type": "code",
   "execution_count": 2,
   "metadata": {},
   "outputs": [],
   "source": [
    "def getClassNameHelper(astring):\n",
    "    \"\"\"\n",
    "    Take a space delimited string, return a class name such as ThisIsAnUnusualName \n",
    "    Here we use this function for instance name. Thus it allows to start with a number\n",
    "    \"\"\"\n",
    "    jointName = astring.title().replace(\" \",\"\")\n",
    "    #substitute except for  _, character, number\n",
    "    nonLegit = re.compile(r'[\\W]+')\n",
    "    className = nonLegit.sub('', jointName)\n",
    "#     if className[0].isdigit():\n",
    "#         return className\n",
    "    return className\n",
    "    \n",
    "def getClassName(astring):\n",
    "    return getClassNameHelper(astring)\n",
    "def getPropertyName(astring):\n",
    "    \"\"\"\n",
    "    Take a space delimited string, return a property name such as thisIsAnUnusualName \n",
    "    \"\"\"\n",
    "    className = getClassNameHelper(astring)\n",
    "    return className[0].lower()+className[1:]"
   ]
  },
  {
   "cell_type": "code",
   "execution_count": 31,
   "metadata": {},
   "outputs": [],
   "source": [
    "def getPubicationUrl(pubId):\n",
    "    \"\"\"return url if url applicable; otherwise return empty string\"\"\"\n",
    "    # IntAct website where the imex applies to doesn't work properly\n",
    "    # mint publication number doesn't work properly\n",
    "    pub = pubId.split(\":\")[0]\n",
    "    idNum = \":\".join(pubId.split(\":\")[1:])\n",
    "    if pub == \"PMID\" or pub == \"pmid\":\n",
    "        return \"https://pubmed.ncbi.nlm.nih.gov/\" + idNum +\"/\"\n",
    "    elif pub == \"GO\":\n",
    "        return \"http://amigo.geneontology.org/amigo/term/GO:\"  + idNum\n",
    "    elif pub == \"RESID\":\n",
    "        return \"https://annotation.dbi.udel.edu/cgi-bin/resid?id=\" + idNum\n",
    "    elif pub == \"doi\":\n",
    "        return \"https://doi.org/\" + idNum \n"
   ]
  },
  {
   "cell_type": "code",
   "execution_count": null,
   "metadata": {},
   "outputs": [],
   "source": [
    "class Node():\n",
    "    def __init__(self, value):\n",
    "        self.value = value\n",
    "        self.parentList = []\n",
    "        # one node can have multiple child nodes\n",
    "        self.childList = []\n",
    "def getParentIdList(termList):\n",
    "    \"\"\"\n",
    "    Takes a list with each item containing the information, return a list of idString of parent node. \n",
    "    Example:\n",
    "    term = ['id: MI:0000',\n",
    "     'name: molecular interaction',\n",
    "     'def: \"Controlled vocabularies originally created for protein protein interactions, extended to other molecules interactions.\" [PMID:14755292]',\n",
    "     'subset: Drugable',\n",
    "     'subset: PSI-MI_slim']\n",
    "    \"\"\"\n",
    "    idStringList = []\n",
    "    for term in termList:\n",
    "        '''\n",
    "        term containining parent information is \"is_a: MI:0013 ! biophysical\" \n",
    "        or \"relationship: part_of MI:1349 ! chembl\"\n",
    "        ''' \n",
    "        if term.startswith(\"is_a\"):\n",
    "            idStringList.append(term.split(\" \")[1])\n",
    "        elif term.startswith(\"relationship\"):\n",
    "            idStringList.append(term.split(\" \")[2])\n",
    "        else: continue\n",
    "            \n",
    "    return idStringList\n",
    "\n",
    "class GetTreeValues():\n",
    "    \n",
    "    def __init__(self):\n",
    "        self.nodeValuesSet = set()\n",
    "\n",
    "    def getSubsetId(self, node):\n",
    "        \"\"\"\n",
    "        Take the idString of as the root node value, return all the tree nodes value as a set.\n",
    "        \"\"\"\n",
    "        # reset return set to empty\n",
    "        self.nodeValuesSet = set()\n",
    "        # run a DFS on the tree\n",
    "        self.dfs(node)\n",
    "        return self.nodeValuesSet\n",
    "\n",
    "    def dfs(self, node):\n",
    "        \"\"\"\n",
    "        Take a tree node, do tree traversal recursively \n",
    "        \"\"\"\n",
    "        if not node: return\n",
    "        self.nodeValuesSet.add(node.value)\n",
    "        for child in node.childList:\n",
    "            self.dfs(child)"
   ]
  },
  {
   "cell_type": "code",
   "execution_count": null,
   "metadata": {},
   "outputs": [],
   "source": [
    "def getSchemaFromText(term, id2node):\n",
    "    \n",
    "    \"\"\"\n",
    "    Takes a list with each item containing the information, return a list: [data schema, PSI-MI, DCID] \n",
    "    Example:\n",
    "    term = ['id: MI:0000',\n",
    "     'name: molecular interaction',\n",
    "     'def: \"Controlled vocabularies originally created for protein protein interactions, extended to other molecules interactions.\" [PMID:14755292]',\n",
    "     'subset: Drugable',\n",
    "     'subset: PSI-MI_slim']\n",
    "    \"\"\"\n",
    "    termDic = collections.defaultdict(list)\n",
    "    for line in term:\n",
    "        lineList = line.split(\": \")\n",
    "        key = lineList[0]\n",
    "        value = \": \".join(lineList[1:])\n",
    "        termDic[key].append(value)\n",
    "    try:\n",
    "        defLong = termDic['def'][0]\n",
    "    except:\n",
    "        print(\"No def attribute\",term)\n",
    "    try:\n",
    "        idStart = defLong.rfind('[')\n",
    "        description = defLong[1:idStart-1-2]\n",
    "        termDic['def'] = [description]\n",
    "        IDString = defLong[idStart+1:-1]\n",
    "        if len(IDString)>0:\n",
    "            IDList = defLong[idStart+1:-1].split(\", \")\n",
    "            termDic['references']= IDList\n",
    "        \n",
    "    except:\n",
    "        print(defLong)\n",
    "    \n",
    "    schemaPieceList = []\n",
    "    keyList = [\"id\", \"def\",\"references\",\"parentClassName\"]\n",
    "    \n",
    "    curLine = \"Node: dcid:\" + id2className[termDic['id'][0]]\n",
    "    schemaPieceList.append(curLine)\n",
    "\n",
    "    \n",
    "    idString = termDic['id'][0]\n",
    "    if idString in interactionTypeIdSet:\n",
    "        curLine = \"typeOf: dcs:InteractionTypeEnum\"\n",
    "    elif idString in detectionMethodIdSet:\n",
    "        curLine = \"typeOf: dcs:InteractionDetectionMethodEnum\"\n",
    "    elif idString in interactionSourceIdset:\n",
    "        curLine = \"typeOf: dcs:InteractionSourceEnum\"\n",
    "    else:\n",
    "        return None\n",
    "        \n",
    "    termDic[\"parentClassName\"] = [id2className[node.value] for node in id2node[idString].parentList]\n",
    "    \n",
    "    schemaPieceList.append(curLine)\n",
    "    dcid = id2className[idString]\n",
    "    curLine = \"name: \\\"\" + dcid + \"\\\"\"\n",
    "    schemaPieceList.append(curLine)\n",
    "\n",
    "    '''\n",
    "    termDic:\n",
    "    id:  ['MI:0001']\n",
    "    name:  ['interaction detection method']\n",
    "    def:  ['Method to determine the interaction']\n",
    "    subset:  ['Drugable', 'PSI-MI_slim']\n",
    "    synonym:  ['\"interaction detect\" EXACT PSI-MI-short []']\n",
    "    relationship:  ['part_of MI:0000 ! molecular interaction']\n",
    "    references:  ['PMID:14755292']\n",
    "    parentClassName:  ['MolecularInteraction']\n",
    "    '''\n",
    "    \n",
    "    for key in keyList:\n",
    "            \n",
    "        if key==\"def\" and len(termDic[key])>0 :\n",
    "\n",
    "            curLine = \"description: \\\"\" + termDic[key][0][0].upper() + termDic[key][0][1:] +\"\\\"\"\n",
    "            schemaPieceList.append(curLine)\n",
    "\n",
    "        elif key==\"references\" and len(termDic[key])>0:\n",
    "            itemList = []\n",
    "            for i in range(len(termDic[key])):\n",
    "                itemList.append( \"\\\"\" + getPubicationUrl(termDic[key][i]) + \"\\\"\")\n",
    "            curLine = \"references: \" +  \",\".join(itemList)\n",
    "            schemaPieceList.append(curLine)\n",
    "            \n",
    "        elif key==\"id\" and len(termDic[key])>0:       \n",
    "            curLine = \"identifier: \\\"\" + termDic[key][0] + \"\\\"\"\n",
    "            schemaPieceList.append(curLine)\n",
    "            \n",
    "        elif key==\"subset\" and len(termDic[key])>0:\n",
    "            itemList = []\n",
    "            for i in range(len(termDic[key])):\n",
    "                itemList.append(termDic[key][i])\n",
    "            curLine = \"subsetOf: dcs:\"  + \",\".join(itemList)\n",
    "            schemaPieceList.append(curLine)\n",
    "            \n",
    "        elif key==\"synonym\" and len(termDic[key])>0:\n",
    "            itemList = []\n",
    "            for i in range(len(termDic[key])):\n",
    "                itemList.append(\"\\\"\" + termDic[key][i] + \"\\\"\" )\n",
    "            curLine = \"alias: \" + \",\".join(itemList)\n",
    "            schemaPieceList.append(curLine)\n",
    "                \n",
    "        elif key==\"is_obsolete\" and len(termDic[key])>0:\n",
    "            itemList = []\n",
    "            for i in range(len(termDic[key])):\n",
    "                itemList.append( termDic[key][i]  )\n",
    "            curLine = \"isObsolete: \" + \",\".join(itemList)\n",
    "            schemaPieceList.append(curLine)\n",
    "            \n",
    "        elif key==\"parentClassName\" and len(termDic[key])>0:\n",
    "            itemList = []\n",
    "            for i in range(len(termDic[key])):\n",
    "                itemList.append( \"dcs:\" + termDic[key][i])\n",
    "            curLine = \"specializationOf: \" +  \",\".join(itemList)\n",
    "            schemaPieceList.append(curLine)\n",
    "\n",
    "    return \"\\n\".join(schemaPieceList), termDic['id'][0], dcid"
   ]
  },
  {
   "cell_type": "code",
   "execution_count": 3,
   "metadata": {},
   "outputs": [
    {
     "data": {
      "text/plain": [
       "'\\nJune 10, 2020\\nParsing Steps:\\n1. build the tree by the psi-mi number. A dictionary {psi-mi: node} is used \\nto access nodes as well.\\n2. save all the tree nodes in the subtree of the three nodes into three set:\\n    id: MI:0001 name: interaction detection method\\n    id: MI:0190 name: interaction type\\n    id: MI:0444 name: database citation\\n3. save the nodes in the three sets to the corresponding enumearation schema\\n'"
      ]
     },
     "execution_count": 3,
     "metadata": {},
     "output_type": "execute_result"
    }
   ],
   "source": [
    "\"\"\"\n",
    "June 10, 2020\n",
    "Parsing Steps:\n",
    "1. build the tree by the psi-mi number. A dictionary {psi-mi: node} is used \n",
    "to access nodes as well.\n",
    "2. save all the tree nodes in the subtree of the three nodes into three set:\n",
    "    id: MI:0001 name: interaction detection method\n",
    "    id: MI:0190 name: interaction type\n",
    "    id: MI:0444 name: database citation\n",
    "3. save the nodes in the three sets to the corresponding enumearation schema\n",
    "\"\"\""
   ]
  },
  {
   "cell_type": "code",
   "execution_count": 4,
   "metadata": {},
   "outputs": [],
   "source": [
    "with open('mi.owl','r') as fp:\n",
    "    file = fp.read()"
   ]
  },
  {
   "cell_type": "code",
   "execution_count": 5,
   "metadata": {},
   "outputs": [],
   "source": [
    "#get the file instruction and save into a dictionary\n",
    "fileHeader = file.split('\\n\\n')[0]"
   ]
  },
  {
   "cell_type": "code",
   "execution_count": 6,
   "metadata": {},
   "outputs": [],
   "source": [
    "fileHeaderDic = collections.defaultdict(list)\n",
    "pairs = fileHeader.split(\"\\n\")\n",
    "for pair in pairs:\n",
    "    pairList = pair.split(\":\")\n",
    "    key = pairList[0]\n",
    "    value = \":\".join(pairList[1:])\n",
    "    fileHeaderDic[key].append(value)"
   ]
  },
  {
   "cell_type": "code",
   "execution_count": 7,
   "metadata": {},
   "outputs": [],
   "source": [
    "fileTerms = file.split('\\n\\n')[1:]"
   ]
  },
  {
   "cell_type": "code",
   "execution_count": 8,
   "metadata": {},
   "outputs": [
    {
     "data": {
      "text/plain": [
       "dict_keys(['format-version', 'date', 'saved-by', 'auto-generated-by', 'subsetdef', 'synonymtypedef', 'default-namespace', 'remark', 'ontology'])"
      ]
     },
     "execution_count": 8,
     "metadata": {},
     "output_type": "execute_result"
    }
   ],
   "source": [
    "fileHeaderDic.keys()"
   ]
  },
  {
   "cell_type": "code",
   "execution_count": 9,
   "metadata": {},
   "outputs": [],
   "source": [
    "id2node = {}\n",
    "id2className = {}\n",
    "# build nodes and create the id2node dictionary at first iteration\n",
    "for termText in fileTerms:\n",
    "    if not termText.startswith(\"[Term]\"):\n",
    "        continue\n",
    "    # idString example: \"MI:0000\"\n",
    "    idString = termText.split(\"\\n\")[1].split(\" \")[1]\n",
    "    className = getClassName(termText.split(\"\\n\")[2].split(\": \")[1])\n",
    "    id2className[idString] = className\n",
    "    id2node[idString] = Node(idString)"
   ]
  },
  {
   "cell_type": "code",
   "execution_count": 10,
   "metadata": {},
   "outputs": [],
   "source": [
    "# build the parent-child relation at the second iteration\n",
    "for termText in fileTerms:\n",
    "    if not termText.startswith(\"[Term]\"):\n",
    "        continue\n",
    "    termList = termText.split(\"\\n\")\n",
    "    idString = termList[1].split(\" \")[1]\n",
    "    parentIdList = getParentIdList(termList[1:])\n",
    "    for pId in parentIdList:\n",
    "        id2node[pId].childList.append(id2node[idString])\n",
    "        id2node[idString].parentList.append(id2node[pId])"
   ]
  },
  {
   "cell_type": "code",
   "execution_count": 11,
   "metadata": {},
   "outputs": [],
   "source": [
    "# get the idStrings for the three target set\n",
    "dfsCaller = GetTreeValues()\n",
    "interactionTypeIdSet = dfsCaller.getSubsetId(id2node[\"MI:0001\"]) # root id: MI:0001 \n",
    "detectionMethodIdSet = dfsCaller.getSubsetId(id2node[\"MI:0190\"])# root id: MI:0190\n",
    "interactionSourceIdset = dfsCaller.getSubsetId(id2node[\"MI:0444\"]) # root id: MI:0444"
   ]
  },
  {
   "cell_type": "code",
   "execution_count": 12,
   "metadata": {},
   "outputs": [],
   "source": [
    "# delete root node value from the set\n",
    "interactionTypeIdSet.remove(\"MI:0001\")\n",
    "detectionMethodIdSet.remove(\"MI:0190\")\n",
    "interactionSourceIdset.remove(\"MI:0444\")"
   ]
  },
  {
   "cell_type": "code",
   "execution_count": 30,
   "metadata": {},
   "outputs": [
    {
     "name": "stdout",
     "output_type": "stream",
     "text": [
      "[333, 109, 180]\n"
     ]
    }
   ],
   "source": [
    "setList = [interactionTypeIdSet, detectionMethodIdSet,interactionSourceIdset]\n",
    "print ([len(s) for s in setList])"
   ]
  },
  {
   "cell_type": "code",
   "execution_count": 33,
   "metadata": {},
   "outputs": [],
   "source": [
    "schemaList = []\n",
    "psimi2dcid = []\n",
    "schema='''Node: dcid:InteractionTypeEnum\\ntypeOf: schema:Class\\nsubClassOf: schema:Enumeration\\nname: \"InteractionTypeEnum\"\\ndescription: \"The interaction type enumeration in biomedical ontologies.\"\\n\\nNode: dcid:InteractionDetectionMethodEnum\\ntypeOf: schema:Class\\nsubClassOf: schema:Enumeration\\nname: \"InteractionDetectionMethodEnum\"\\ndescription: \"The detection method enumeration in biomedical ontologies.\"\\n\\nNode: dcid:InteractionSourceEnum\\ntypeOf: schema:Class\\nsubClassOf: schema:Enumeration\\nname: \"InteractionSourceEnum\"\\ndescription: \"The interaction source database enumeration in biomedical ontologies.\"'''\n",
    "schemaList.append(schema)\n",
    "for termText in fileTerms:\n",
    "    if not termText.startswith(\"[Term]\"):\n",
    "        continue\n",
    "    term = termText.split(\"\\n\")[1:]\n",
    "    schemaRes = getSchemaFromText(term, id2node)\n",
    "    if schemaRes:\n",
    "        schema, psimi, dcid = schemaRes\n",
    "        schemaList.append(schema)\n",
    "        psimi2dcid.append(psimi+': ' + dcid)\n",
    "schemaEnumText = \"\\n\\n\".join(schemaList)\n",
    "with open('BioOntologySchema.mcf','w') as fp:\n",
    "    fp.write(schemaEnumText)\n",
    "with open('psimi2dcid.txt','w') as fp:\n",
    "    fp.write(\"\\n\".join(psimi2dcid))"
   ]
  },
  {
   "cell_type": "code",
   "execution_count": 34,
   "metadata": {},
   "outputs": [],
   "source": [
    "# dev browser imported name: BioOntologySchema"
   ]
  }
 ],
 "metadata": {
  "kernelspec": {
   "display_name": "Python 3",
   "language": "python",
   "name": "python3"
  },
  "language_info": {
   "codemirror_mode": {
    "name": "ipython",
    "version": 3
   },
   "file_extension": ".py",
   "mimetype": "text/x-python",
   "name": "python",
   "nbconvert_exporter": "python",
   "pygments_lexer": "ipython3",
   "version": "3.7.6"
  }
 },
 "nbformat": 4,
 "nbformat_minor": 4
}
