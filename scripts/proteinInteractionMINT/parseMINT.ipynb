{
 "cells": [
  {
   "cell_type": "code",
   "execution_count": 30,
   "metadata": {},
   "outputs": [],
   "source": [
    "import collections\n",
    "import re"
   ]
  },
  {
   "cell_type": "code",
   "execution_count": 44,
   "metadata": {},
   "outputs": [],
   "source": [
    "def getPubicationUrl(pubId):\n",
    "    \"\"\"return url if url is applicable; otherwise return empty string\"\"\"\n",
    "    # IntAct website where the imex applies to doesn't work properly\n",
    "    # mint publication number doesn't work properly\n",
    "    pub = pubId.split(\":\")[0]\n",
    "    idNum = \":\".join(pubId.split(\":\")[1:])\n",
    "    if pub == \"pubmed\":\n",
    "        return \"https://pubmed.ncbi.nlm.nih.gov/\" + idNum +\"/\"\n",
    "    elif pub == \"imex\":\n",
    "        return \"\"\n",
    "    elif pub == \"mint\":\n",
    "        return \"\"\n",
    "    elif pub == \"doi\":\n",
    "        return \"https://doi.org/\" + idNum +\".x\"\n",
    "    elif pub == \"rcsb pdb\":\n",
    "        return \"https://www.rcsb.org/structure/\" + idNum\n",
    "        \n",
    "    \n",
    "def getIdentifierUrl(sourceId):\n",
    "    \"\"\"return url if url is applicable; otherwise return empty string\"\"\"\n",
    "    #\"imex\" identifier url doesn't work\n",
    "    source = sourceId.split(\":\")[0]\n",
    "    idNum = \":\".join(sourceId.split(\":\")[1:])\n",
    "    if source == \"intact\":\n",
    "        return \"https://www.ebi.ac.uk/intact/interaction/\" + idNum\n",
    "    elif source == \"mint\":\n",
    "        return \"https://mint.bio.uniroma2.it/index.php/detailed-curation/?id=\" + idNum\n",
    "    elif source == \"emdb\":\n",
    "        return \"https://www.ebi.ac.uk/pdbe/entry/emdb/\" + idNum    \n",
    "    elif source == \"wwpdb\" or source == \"rcsb pdb\":\n",
    "        return \"https://www.rcsb.org/structure/\" + idNum\n",
    "    elif source == \"psi-mi\":\n",
    "        return \"dcs:\"+psimi2dcid[idNum[1:-1]]\n",
    "    elif source == \"reactome\":\n",
    "        return \"\"\n",
    "    elif source == \"pdbe\":\n",
    "        return \"https://www.ebi.ac.uk/pdbe/entry/pdb/\" + idNum\n",
    "    else:\n",
    "        return \"\"\n",
    "        \n",
    "        \n",
    "        "
   ]
  },
  {
   "cell_type": "code",
   "execution_count": 45,
   "metadata": {},
   "outputs": [],
   "source": [
    "def getProteinDcid(mintAliases):\n",
    "    \"\"\"\n",
    "    Takes a string from the mint database, return the dcid of the protein.\n",
    "    The mintAliases line contains the aliases of the protein. The display_long.upper() is the\n",
    "    dcid of the participant protein.\n",
    "    \"\"\"\n",
    "    if len(mintAliases)>1:\n",
    "        return mintAliases.split(\"|\")[0].split(\":\")[1].split('(')[0].upper()\n",
    "    else:\n",
    "        # for a self-interacting protein, one of the protein name is empty, denoted by \"-\" \n",
    "        return None"
   ]
  },
  {
   "cell_type": "code",
   "execution_count": 46,
   "metadata": {},
   "outputs": [],
   "source": [
    "def checkUniprot(alias):\n",
    "    \"\"\"\n",
    "    Return True if the protein has UniProt identifier\n",
    "    \"\"\"\n",
    "    \n",
    "    return len(alias)==1 or alias.split(\":\")[0] == \"uniprotkb\""
   ]
  },
  {
   "cell_type": "code",
   "execution_count": 47,
   "metadata": {},
   "outputs": [],
   "source": [
    "def checkDcid(alias):\n",
    "    \"\"\"\n",
    "    if alias == '-': return 1\n",
    "    elif it contains the \"display_long\", which the protein name in UniProt, and it\n",
    "        has the right format(contains only number, char, \"_\"), has two parts separated \n",
    "        by \"_\".\n",
    "    else return 0\n",
    "    \"\"\"\n",
    "    if len(alias) == 1:\n",
    "        return 1\n",
    "    aliasList = alias.split(\"|\")\n",
    "    aliasDic = {}\n",
    "    for ali in aliasList:\n",
    "        key = ali.split(\"(\")[1][:-1]\n",
    "        value = ali.split(\"(\")[0].split(\":\")[1]\n",
    "        aliasDic[key] = value\n",
    "    if \"display_long\" in aliasDic:\n",
    "        dcid = aliasDic[\"display_long\"]\n",
    "        if re.search(\"[\\W]+\", dcid)!=None or len(dcid.split(\"_\"))!=2:\n",
    "            return 0\n",
    "        \n",
    "    else:\n",
    "        return 2\n",
    "        "
   ]
  },
  {
   "cell_type": "code",
   "execution_count": 48,
   "metadata": {},
   "outputs": [],
   "source": [
    "def getSchemaFromText(term):\n",
    "    \n",
    "    \"\"\"\n",
    "    Takes a list with each item containing the information, return a data schema. \n",
    "    \"\"\"\n",
    "    termDic = collections.defaultdict(list)\n",
    "    protein = getProteinDcid(term[4])\n",
    "    if protein:\n",
    "        termDic['interactingProtein'].append(protein)\n",
    "    protein = getProteinDcid(term[5])\n",
    "    if protein:\n",
    "        termDic['interactingProtein'].append(protein)\n",
    "    detectionMethod = psimi2dcid[term[6].split(\":\\\"\")[1].split(\"(\")[0][:-1]]\n",
    "    termDic['interactionDetectionMethod'].append(detectionMethod)\n",
    "    termDic['references'] = [getPubicationUrl(x) for x in term[8].split(\"|\")]\n",
    "    interactionType = psimi2dcid[term[11].split(\":\\\"\")[1].split(\"(\")[0][:-1]]\n",
    "    termDic['interactionType'].append(interactionType)\n",
    "    interactionSource =  psimi2dcid[term[12].split(\":\\\"\")[1].split(\"(\")[0][:-1]]\n",
    "    termDic['interactionSource'].append(interactionSource)\n",
    "    termDic['identifier'] = [getIdentifierUrl(x) for x in term[13].split(\"|\")]\n",
    "    confidence = term[14]\n",
    "    if confidence!= \"-\":\n",
    "        termDic['confidence'].append(term[14])\n",
    "\n",
    "    '''\n",
    "    termDic example:\n",
    "    interactingProtein:  ['RPN1_YEAST', 'RPN3_YEAST']\n",
    "    interactionDetectionMethod:  ['TandemAffinityPurification']\n",
    "    references:  ['pubmed:16554755', 'imex:IM-15332', 'mint:MINT-5218454']\n",
    "    interactionType:  ['PhysicalAssociation']\n",
    "    interactionSource:  ['Mint']\n",
    "    identifier:  ['intact:EBI-6941860', 'mint:MINT-1984371', 'imex:IM-15332-8532']\n",
    "    confidence:  ['intact-miscore:0.76']\n",
    "    '''\n",
    "    schemaPieceList = []\n",
    "    keyList = [\"interactingProtein\", \"interactionDetectionMethod\",\"interactionType\",\"interactionSource\", \\\n",
    "               \"identifier\", \"confidence\",\"references\"]\n",
    "    if len(termDic[\"interactingProtein\"])>1:\n",
    "        dcid = termDic[\"interactingProtein\"][0] + \"_\" + termDic[\"interactingProtein\"][1]\n",
    "    else:\n",
    "        dcid = termDic[\"interactingProtein\"][0] + \"_\" + termDic[\"interactingProtein\"][0]\n",
    "    curLine = \"Node: dcid:\" + dcid\n",
    "    schemaPieceList.append(curLine)\n",
    "    curLine = \"typeOf: ProteinProteinInteraction\"\n",
    "    schemaPieceList.append(curLine)\n",
    "    curLine = \"name: \" + \"\\\"\" + dcid + \"\\\"\"\n",
    "    schemaPieceList.append(curLine)\n",
    "\n",
    "    for key in keyList:\n",
    "            \n",
    "        if key==\"interactingProtein\" and len(termDic[key])>0 :\n",
    "            itemList = []\n",
    "            for i in range(len(termDic[key])):\n",
    "                itemList.append(\"dcs:bio/UniProt_\" + termDic[key][i])\n",
    "            curLine = \"interactingProtein: \" +  \",\".join(itemList)\n",
    "            schemaPieceList.append(curLine)\n",
    "\n",
    "        elif key==\"interactionDetectionMethod\" and len(termDic[key])>0 :\n",
    "            itemList = []\n",
    "            for i in range(len(termDic[key])):\n",
    "                itemList.append(\"dcs:\" + termDic[key][i])\n",
    "            curLine = \"interactionDetectionMethod: \" +  \",\".join(itemList)\n",
    "            schemaPieceList.append(curLine)\n",
    "            \n",
    "        elif key==\"interactionType\" and len(termDic[key])>0 :\n",
    "            itemList = []\n",
    "            for i in range(len(termDic[key])):\n",
    "                itemList.append(\"dcs:\" + termDic[key][i])\n",
    "            curLine = \"interactionType: \" +  \",\".join(itemList)\n",
    "            schemaPieceList.append(curLine)\n",
    "            \n",
    "        elif key==\"interactionSource\" and len(termDic[key])>0 :\n",
    "            itemList = []\n",
    "            for i in range(len(termDic[key])):\n",
    "                itemList.append(\"dcs:\" + termDic[key][i])\n",
    "            curLine = \"interactionSource: \" +  \",\".join(itemList)\n",
    "            schemaPieceList.append(curLine)\n",
    "            \n",
    "        elif key==\"references\" and len(termDic[key])>0:\n",
    "            itemList = []\n",
    "            for i in range(len(termDic[key])):\n",
    "                if termDic[key][i]!=\"\":\n",
    "                    itemList.append( \"\\\"\" + termDic[key][i] + \"\\\"\")\n",
    "            curLine = \"references: \" +  \",\".join(itemList)\n",
    "            schemaPieceList.append(curLine)\n",
    "            \n",
    "        elif key==\"identifier\" and len(termDic[key])>0:\n",
    "            itemList = []\n",
    "            for i in range(len(termDic[key])):\n",
    "                if termDic[key][i]!=\"\":\n",
    "                    itemList.append( \"\\\"\" + termDic[key][i] + \"\\\"\")\n",
    "            curLine = \"identifier: \" +  \",\".join(itemList)\n",
    "            schemaPieceList.append(curLine)\n",
    "            \n",
    "        elif key==\"confidence\" and len(termDic[key])>0:       \n",
    "            curLine = \"confidence: \\\"\" + termDic[key][0] + \"\\\"\"\n",
    "            schemaPieceList.append(curLine)\n",
    "\n",
    "\n",
    "    return \"\\n\".join(schemaPieceList)"
   ]
  },
  {
   "cell_type": "code",
   "execution_count": 49,
   "metadata": {},
   "outputs": [],
   "source": [
    "with open('./mint_database', 'r') as fp:\n",
    "    file = fp.read()\n",
    "# read the file which has paired PSI-MI and DCID, this file generated from EBI MI Ontology\n",
    "with open('../proteinInteractionEBI/psimi2dcid.txt','r') as fp:\n",
    "    p2d = fp.read()"
   ]
  },
  {
   "cell_type": "code",
   "execution_count": 50,
   "metadata": {},
   "outputs": [],
   "source": [
    "lines = file.split('\\n')"
   ]
  },
  {
   "cell_type": "code",
   "execution_count": 51,
   "metadata": {},
   "outputs": [],
   "source": [
    "psimi2dcid = {}\n",
    "p2d = [line.split(\": \") for line in p2d.split(\"\\n\")]\n",
    "for line in p2d:\n",
    "    psimi2dcid[line[0]] = line[1]"
   ]
  },
  {
   "cell_type": "code",
   "execution_count": 52,
   "metadata": {},
   "outputs": [],
   "source": [
    "schemaList = []\n",
    "schema='''Node: dcid:ProteinProteinInteraction\\nname: \"ProteinProteinInteraction\"\\ntypeOf: schema:Class\\nsubClassOf: schema:Thing\\ndescription: \"The Interaction between proteins.\"\\n\\nNode: dcid:interactingProtein\\ntypeOf: schema:Property\\nname: \"interactingProtein\"\\ndescription: \"The participant proteins in protein-protein interaction.\"\\nrangeIncludes: dcs:Protein\\ndomainIncludes: dcs:ProteinProteinInteraction\\n\\nNode: dcid:interactionDetectionMethod\\ntypeOf: schema:Property\\nname: \"interactionDetectionMethod\"\\ndescription: \"The interaction detection method used in the experiment\"\\nrangeIncludes: dcs:InteractionDetectionMethodEnum\\ndomainIncludes: dcs:ProteinProteinInteraction\\n\\nNode: dcid:interactionType\\ntypeOf: schema:Property\\nname: \"interactionType\"\\ndescription: \"The molecular interaction type\"\\nrangeIncludes: dcs:InteractionTypeEnum\\ndomainIncludes: dcs:ProteinProteinInteraction\\n\\nNode: dcid:interactionSource\\ntypeOf: schema:Property\\nname: \"interactionSource\"\\ndescription: \"The database where the interaction record extracted\"\\nrangeIncludes: dcs:InteractionSourceEnum\\ndomainIncludes: dcs:ProteinProteinInteraction'''\n",
    "schemaList.append(schema)\n",
    "wrongDcid = []\n",
    "failed = []\n",
    "noUniprot = []\n",
    "for line in lines:\n",
    "    \n",
    "    if len(line) == 0:\n",
    "        continue\n",
    "        \n",
    "    term = line.split('\\t')\n",
    "    \n",
    "    # check if record has correct UniProt Protein Name\n",
    "    c1, c2 = checkDcid(term[4]), checkDcid(term[5])\n",
    "    \n",
    "    if c1==0 or c2==0:\n",
    "        wrongDcid.append(line)\n",
    "        continue\n",
    "    \n",
    "    # check if record has Uniprot Identifier\n",
    "    u1, u2 = checkUniprot(term[0]), checkUniprot(term[1])\n",
    "    if not u1 or not u2:\n",
    "        noUniprot.append(line)\n",
    "        continue\n",
    "    \n",
    "    try:\n",
    "        schema = getSchemaFromText(term)\n",
    "    except:\n",
    "        failed.append(line)\n",
    "        continue\n",
    "        \n",
    "    if schema:\n",
    "        schemaList.append(schema)\n",
    "\n"
   ]
  },
  {
   "cell_type": "code",
   "execution_count": 53,
   "metadata": {},
   "outputs": [],
   "source": [
    "schemaEnumText = \"\\n\\n\".join(schemaList[:20])\n",
    "with open('BioMINTSchema.mcf','w') as fp:\n",
    "    fp.write(schemaEnumText)"
   ]
  },
  {
   "cell_type": "code",
   "execution_count": 61,
   "metadata": {},
   "outputs": [
    {
     "data": {
      "text/plain": [
       "129585"
      ]
     },
     "execution_count": 61,
     "metadata": {},
     "output_type": "execute_result"
    }
   ],
   "source": [
    "# Imported records number\n",
    "len(schemaList)-1"
   ]
  },
  {
   "cell_type": "code",
   "execution_count": 57,
   "metadata": {},
   "outputs": [
    {
     "name": "stdout",
     "output_type": "stream",
     "text": [
      "3540\n",
      "42\n",
      "0\n"
     ]
    }
   ],
   "source": [
    "# the number of records we didn't import\n",
    "fCount = 0\n",
    "for alist in [wrongDcid,noUniprot, failed]:\n",
    "    print(len(alist))\n",
    "    fCount += len(alist)"
   ]
  },
  {
   "cell_type": "code",
   "execution_count": 58,
   "metadata": {},
   "outputs": [],
   "source": [
    "# the whole schema is too large to upload to dev browser at once. Split into 3 parts.\n",
    "count = 1\n",
    "for i in range(0,len(schemaList), 44375):\n",
    "    schemaEnumText = \"\\n\\n\".join(schemaList[i:i+44375])   \n",
    "    with open('BioMINTSchema_part'+str(count)+'.mcf','w') as fp:\n",
    "        fp.write(schemaEnumText)\n",
    "    count += 1"
   ]
  },
  {
   "cell_type": "code",
   "execution_count": 59,
   "metadata": {},
   "outputs": [],
   "source": [
    "# Show all the publications and identifier source examples.\n",
    "\n",
    "publications = {}\n",
    "identifier = {}\n",
    "pCount = collections.defaultdict(int)\n",
    "iCount = collections.defaultdict(int)\n",
    "for line in lines:\n",
    "    if len(line) == 0:\n",
    "        continue\n",
    "    term = line.split('\\t')\n",
    "    try:\n",
    "        ps = term[8].split(\"|\")\n",
    "    except:\n",
    "        print(term[8])\n",
    "    for p in ps:\n",
    "        if p.split(\":\")[0] not in publications:\n",
    "            publications[p.split(\":\")[0]] = \"\".join(p.split(\":\")[1:])\n",
    "        pCount[p.split(\":\")[0]] += 1\n",
    "    ids = term[13].split(\"|\") \n",
    "    for i in ids:\n",
    "        if i.split(\":\")[0] not in identifier:\n",
    "            identifier[i.split(\":\")[0]] = \"\".join(i.split(\":\")[1:])\n",
    "        iCount[i.split(\":\")[0]] += 1\n"
   ]
  },
  {
   "cell_type": "code",
   "execution_count": 60,
   "metadata": {},
   "outputs": [
    {
     "data": {
      "text/plain": [
       "({'pubmed': '16554755',\n",
       "  'imex': 'IM-15332',\n",
       "  'mint': 'MINT-5218454',\n",
       "  'doi': '10.1046/j.1365-2443.2002.00589',\n",
       "  'rcsb pdb': '4lep'},\n",
       " {'intact': 'EBI-6941860',\n",
       "  'mint': 'MINT-1984371',\n",
       "  'imex': 'IM-15332-8532',\n",
       "  'emdb': 'EMD-1191',\n",
       "  'wwpdb': '3blr',\n",
       "  'psi-mi': '\"MI0471\"',\n",
       "  'rcsb pdb': '1JL4',\n",
       "  'reactome': 'REACT_3482.1',\n",
       "  'pdbe': '4bht'})"
      ]
     },
     "execution_count": 60,
     "metadata": {},
     "output_type": "execute_result"
    }
   ],
   "source": [
    "publications, identifier"
   ]
  }
 ],
 "metadata": {
  "kernelspec": {
   "display_name": "Python 3",
   "language": "python",
   "name": "python3"
  },
  "language_info": {
   "codemirror_mode": {
    "name": "ipython",
    "version": 3
   },
   "file_extension": ".py",
   "mimetype": "text/x-python",
   "name": "python",
   "nbconvert_exporter": "python",
   "pygments_lexer": "ipython3",
   "version": "3.7.6"
  }
 },
 "nbformat": 4,
 "nbformat_minor": 4
}
