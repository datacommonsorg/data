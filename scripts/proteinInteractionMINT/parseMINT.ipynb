{
 "cells": [
  {
   "cell_type": "code",
   "execution_count": 484,
   "metadata": {},
   "outputs": [],
   "source": [
    "import collections\n",
    "import re"
   ]
  },
  {
   "cell_type": "code",
   "execution_count": 398,
   "metadata": {},
   "outputs": [],
   "source": [
    "def getReferences(term):\n",
    "    \"\"\"Convert reference string to the corresponding reference property schema\n",
    "    \n",
    "    Args:\n",
    "        term: a string with the format \"source:idNum\"\n",
    "    \n",
    "    Returns:\n",
    "        a tuple: (propertyLine,newSourceMap). propertyLine is the reference \n",
    "        property in schema, and newSourceMap is the dictionary of with source\n",
    "        name as the key and the identifier as the value, if new source exists.\n",
    "        For example:\n",
    "        (\"imexID: 1007323\", {aNewSource:100100})\n",
    "    \"\"\"\n",
    "    source = term.split(\":\")[0]\n",
    "    idNum = \":\".join(term.split(\":\")[1:])\n",
    "    newSourceMap = {}\n",
    "    if source == \"pubmed\":\n",
    "        propertyLine = \"pubMedID: \" + \"\\\"\" + idNum +\"\\\"\"\n",
    "    elif source == \"imex\":\n",
    "        propertyLine = \"imexID: \" + \"\\\"\" + idNum +\"\\\"\"\n",
    "    elif source == \"mint\":\n",
    "        propertyLine =  \"mintID: \" + \"\\\"\" + idNum +\"\\\"\"\n",
    "    elif source == \"doi\":\n",
    "        propertyLine =  \"digitalObjectID: \" + \"\\\"\" + idNum +\"\\\"\"\n",
    "    elif source == \"rcsb pdb\":\n",
    "        propertyLine =  \"rcsbPDBID: \" + \"\\\"\" + idNum +\"\\\"\"\n",
    "    else:\n",
    "        newReference[source] = idNum\n",
    "        newSourceMap = None\n",
    "    return (propertyLine, newSourceMap)\n",
    "    \n",
    "    \n",
    "    \n",
    "def getIdentifier(term):\n",
    "    \"\"\"Convert identifier string to the corresponding identifier property schema\n",
    "    \n",
    "    Args:\n",
    "        term: a string with the format \"source:idNum\"\n",
    "    \n",
    "    Returns:\n",
    "        a tuple: (propertyLine,newSourceMap). propertyLine is the identifier \n",
    "        property in schema, and newSourceMap is the dictionary of with source\n",
    "        name as the key and the identifier as the value, if new source exists.\n",
    "        For example:\n",
    "        (\"imexID: 1007323\", \"{aNewSource:100100}\")\n",
    "    \"\"\"\n",
    "    source = term.split(\":\")[0]\n",
    "    idNum = \":\".join(term.split(\":\")[1:])\n",
    "    newSourceMap = {}\n",
    "    if source == \"intact\":\n",
    "        propertyLine = \"intActID: \" + \"\\\"\" + idNum +\"\\\"\"\n",
    "    elif source == \"mint\":\n",
    "        propertyLine = \"mintID: \" + \"\\\"\" + idNum +\"\\\"\"\n",
    "    elif source == \"imex\":\n",
    "        propertyLine = \"imexID: \" + \"\\\"\" + idNum +\"\\\"\"\n",
    "    elif source == \"emdb\":\n",
    "        propertyLine = \"electronMicroscopyDataBankID: \" + \"\\\"\" + idNum +\"\\\"\"   \n",
    "    elif source == \"wwpdb\":\n",
    "        propertyLine = \"worldWideProteinDataBankID: \" + \"\\\"\" + idNum +\"\\\"\"\n",
    "    elif source == \"rcsb pdb\":\n",
    "        propertyLine = \"rcsbPDBID: \" + \"\\\"\" + idNum +\"\\\"\"\n",
    "    elif source == \"psi-mi\":\n",
    "        propertyLine = \"psimiID: \" + \"\\\"\" + idNum[1:-1] +\"\\\"\"\n",
    "    elif source == \"reactome\":\n",
    "        propertyLine = \"reactomePathwayID: \" + \"\\\"\" + idNum +\"\\\"\"\n",
    "    elif source == \"pdbe\":\n",
    "        propertyLine = \"proteinDataBankInEuropeID: \"  + \"\\\"\" + idNum +\"\\\"\"\n",
    "    else:\n",
    "        newSourceMap[source] = idNum\n",
    "        propertyLine = None\n",
    "    return (propertyLine, newSourceMap)\n",
    "    \n",
    "def getConfidence(term):\n",
    "    \"\"\"Convert confidence string to the corresponding confidence property schema\n",
    "\n",
    "    Args:\n",
    "        term: a string with the format \"source:idNum\"\n",
    "\n",
    "    Returns:\n",
    "        a tuple: (propertyLine,newSourceMap). propertyLine is the identifier \n",
    "        property in schema, and newSourceMap is the dictionary of with source\n",
    "        name as the key and the identifier as the value, if new source exists.\n",
    "        For example:\n",
    "        (\"[13 dcs:AuthorScore]\", {aNewSource:10})\n",
    "    \"\"\"\n",
    "    source = term.split(\":\")[0]\n",
    "    idNum = \":\".join(term.split(\":\")[1:])\n",
    "    newSourceMap = {}\n",
    "    if source == \"author score\":\n",
    "        if idNum.split(\" \")[0] == \"Below\":\n",
    "            propertyLine =  \"[- \"+ idNum.split(\" \")[1] + \" dcs:AuthorScore\" +  \"]\"\n",
    "        elif idNum.split(\" \")[0] == \"Above\":\n",
    "            propertyLine =  \"[\"+ idNum.split(\" \")[1] + \" - dcs:AuthorScore\" +  \"]\"\n",
    "        for part in idNum.split(\".\"):\n",
    "            if not part.isnumeric():\n",
    "                # if author score is \"++++\"\n",
    "                propertyLine =  \"[\"+ str(len(idNum)) + \" dcs:AuthorScore\" +  \"]\"\n",
    "                \n",
    "        \n",
    "        propertyLine =  \"[\"+ idNum + \" dcs:AuthorScore\" +  \"]\"\n",
    "    elif source == \"intact-miscore\":\n",
    "        propertyLine =  \"[\"+ idNum + \" dcs:IntactMiScore\" +  \"]\"\n",
    "    else:\n",
    "        newSourceMap[source] = idNum\n",
    "        propertyLine =  None\n",
    "        \n",
    "    return (propertyLine, newSourceMap)\n",
    "\n",
    "    "
   ]
  },
  {
   "cell_type": "code",
   "execution_count": 399,
   "metadata": {},
   "outputs": [],
   "source": [
    "def getProteinDcid(mintAliases):\n",
    "    \"\"\"\n",
    "    Takes a string from the mint database, return the dcid of the protein.\n",
    "    The mintAliases line contains the aliases of the protein. The display_long.upper() is the\n",
    "    dcid of the participant protein.\n",
    "    \"\"\"\n",
    "    if len(mintAliases)>1:\n",
    "        return mintAliases.split(\"|\")[0].split(\":\")[1].split('(')[0].upper()\n",
    "    else:\n",
    "        # for a self-interacting protein, one of the protein name is empty, denoted by \"-\" \n",
    "        return None"
   ]
  },
  {
   "cell_type": "code",
   "execution_count": 400,
   "metadata": {},
   "outputs": [],
   "source": [
    "def checkUniprot(alias):\n",
    "    \"\"\"\n",
    "    Return True if the protein has UniProt identifier\n",
    "    \"\"\"\n",
    "    \n",
    "    return len(alias)==1 or alias.split(\":\")[0] == \"uniprotkb\""
   ]
  },
  {
   "cell_type": "code",
   "execution_count": 401,
   "metadata": {},
   "outputs": [],
   "source": [
    "def checkDcid(alias):\n",
    "    \"\"\"\n",
    "    if alias == '-': return 1\n",
    "    elif it contains the \"display_long\", which the protein name in UniProt, and it\n",
    "        has the right format(contains only number, char, \"_\"), has two parts separated \n",
    "        by \"_\".\n",
    "    else return 0\n",
    "    \"\"\"\n",
    "    if len(alias) == 1:\n",
    "        return 1\n",
    "    aliasList = alias.split(\"|\")\n",
    "    aliasDic = {}\n",
    "    for ali in aliasList:\n",
    "        key = ali.split(\"(\")[1][:-1]\n",
    "        value = ali.split(\"(\")[0].split(\":\")[1]\n",
    "        aliasDic[key] = value\n",
    "    if \"display_long\" in aliasDic:\n",
    "        dcid = aliasDic[\"display_long\"]\n",
    "        if re.search(\"[\\W]+\", dcid)!=None or len(dcid.split(\"_\"))!=2:\n",
    "            return 0\n",
    "        \n",
    "    else:\n",
    "        return 2\n",
    "        "
   ]
  },
  {
   "cell_type": "code",
   "execution_count": 402,
   "metadata": {},
   "outputs": [],
   "source": [
    "confidenceSet = collections.defaultdict(list)\n",
    "confidenceSetCount = collections.defaultdict(int)"
   ]
  },
  {
   "cell_type": "code",
   "execution_count": 452,
   "metadata": {},
   "outputs": [],
   "source": [
    "def getPropertyContent(content, prefix):\n",
    "    \"\"\" \n",
    "    Args:\n",
    "        the list containing property objects\n",
    "\n",
    "    \"\"\"\n",
    "\n",
    "    if not content:\n",
    "        return None\n",
    "    itemList = []\n",
    "    for obj in content:\n",
    "        itemList.append(prefix + obj)\n",
    "\n",
    "    return \",\".join(itemList)\n",
    "\n",
    "def getCurLine(keyName, valueList, prefix):\n",
    "    propertyContent = getPropertyContent(valueList, prefix)\n",
    "    if not propertyContent: return None\n",
    "    curLine = keyName + \": \" + propertyContent \n",
    "    return curLine"
   ]
  },
  {
   "cell_type": "code",
   "execution_count": 470,
   "metadata": {},
   "outputs": [],
   "source": [
    "def getSchemaFromText(term, newSourceMap):\n",
    "    \n",
    "    \"\"\"\n",
    "    Takes a list with each item containing the information, return a data schema, and a map with new reference,\n",
    "    identifier and confidence sources.\n",
    "    \"\"\"\n",
    "    termDic = collections.defaultdict(list)\n",
    "    protein = getProteinDcid(term[4])\n",
    "    if protein:\n",
    "        termDic['interactingProtein'].append(protein)\n",
    "    protein = getProteinDcid(term[5])\n",
    "    if protein:\n",
    "        termDic['interactingProtein'].append(protein)\n",
    "    detectionMethod = psimi2dcid[term[6].split(\":\\\"\")[1].split(\"(\")[0][:-1]]\n",
    "    termDic['interactionDetectionMethod'].append(detectionMethod)\n",
    "    termDic['references'] = term[8].split(\"|\")\n",
    "    interactionType = psimi2dcid[term[11].split(\":\\\"\")[1].split(\"(\")[0][:-1]]\n",
    "    termDic['interactionType'].append(interactionType)\n",
    "    interactionSource =  psimi2dcid[term[12].split(\":\\\"\")[1].split(\"(\")[0][:-1]]\n",
    "    termDic['interactionSource'].append(interactionSource)\n",
    "    termDic['identifier'] = term[13].split(\"|\")\n",
    "    confidence = term[14]\n",
    "    if confidence!= \"-\":\n",
    "        termDic['confidence']=term[14].split(\"|\")\n",
    "\n",
    "    '''\n",
    "    termDic example:\n",
    "    interactingProtein:  ['RPN1_YEAST', 'RPN3_YEAST']\n",
    "    interactionDetectionMethod:  ['TandemAffinityPurification']\n",
    "    references:  ['pubmed:16554755', 'imex:IM-15332', 'mint:MINT-5218454']\n",
    "    interactionType:  ['PhysicalAssociation']\n",
    "    interactionSource:  ['Mint']\n",
    "    identifier:  ['intact:EBI-6941860', 'mint:MINT-1984371', 'imex:IM-15332-8532']\n",
    "    confidence:  ['intact-miscore:0.76']\n",
    "    '''\n",
    "    schemaPieceList = []\n",
    "    keyList = [\"interactingProtein\", \"interactionDetectionMethod\",\"interactionType\",\"interactionSource\",\n",
    "               \"identifier\", \"confidence\",\"references\"]\n",
    "    if len(termDic[\"interactingProtein\"])>1:\n",
    "        dcid = termDic[\"interactingProtein\"][0] + \"_\" + termDic[\"interactingProtein\"][1]\n",
    "    else:\n",
    "        dcid = termDic[\"interactingProtein\"][0] + \"_\" + termDic[\"interactingProtein\"][0]\n",
    "    curLine = \"Node: dcid:bio/\" + dcid\n",
    "    schemaPieceList.append(curLine)\n",
    "    curLine = \"typeOf: ProteinProteinInteraction\"\n",
    "    schemaPieceList.append(curLine)\n",
    "    curLine = \"name: \" + \"\\\"\" + dcid + \"\\\"\"\n",
    "    schemaPieceList.append(curLine)\n",
    "\n",
    "    for key in keyList:\n",
    "        if key in set([\"interactionDetectionMethod\", \"interactionType\", \"interactionSource\"]):\n",
    "            curLine = getCurLine(key, termDic[key], \"dcs:\")\n",
    "            if curLine:\n",
    "                schemaPieceList.append(curLine)\n",
    "            \n",
    "        elif key==\"interactingProtein\" and termDic[key]:\n",
    "            curLine = getCurLine(key, termDic[key], \"dcs:bio/UniProt_\")\n",
    "            if curLine:\n",
    "                schemaPieceList.append(curLine)\n",
    "\n",
    "        elif key==\"references\" and termDic[key]:\n",
    "            for term in termDic[key]:\n",
    "                if term:\n",
    "                    curLine, newReferenceMap = getReferences(term)\n",
    "                    if curLine:\n",
    "                        schemaPieceList.append(curLine)\n",
    "                    if newReferenceMap:\n",
    "                        newSourceMap[key] = newSourceMap[key].update(newReferenceMap)\n",
    "                          \n",
    "        elif key==\"identifier\" and termDic[key]:\n",
    "            for term in termDic[key]:\n",
    "                if term:                  \n",
    "                    curLine, newIdentifierMap = getIdentifier(term)\n",
    "                    if curLine:\n",
    "                        schemaPieceList.append(curLine)\n",
    "                    if newIdentifierMap:\n",
    "                        newSourceMap[key] = newSourceMap[key].update(newReferenceMap)\n",
    "   \n",
    "        elif key==\"confidence\" and termDic[key]:       \n",
    "            itemList = []\n",
    "            for term in termDic[key]:\n",
    "                if term: \n",
    "                    item, newConfidenceSource = getConfidence(term)\n",
    "                    itemList.append(item)\n",
    "            if itemList:\n",
    "                curLine = \"confidenceScore: \" +  \",\".join(itemList)        \n",
    "                schemaPieceList.append(curLine)\n",
    "            if newConfidenceSource:\n",
    "                newSourceMap[key] = newSourceMap[key].update(newReferenceMap)\n",
    "                \n",
    "    return \"\\n\".join(schemaPieceList), newSourceMap"
   ]
  },
  {
   "cell_type": "code",
   "execution_count": 477,
   "metadata": {},
   "outputs": [],
   "source": [
    "with open('./mint_database', 'r') as fp:\n",
    "    file = fp.read()\n",
    "# read the file which has paired PSI-MI and DCID, this file generated from EBI MI Ontology\n",
    "with open('../proteinInteractionEBI/psimi2dcid.txt','r') as fp:\n",
    "    p2d = fp.read()"
   ]
  },
  {
   "cell_type": "code",
   "execution_count": 478,
   "metadata": {},
   "outputs": [],
   "source": [
    "lines = file.split('\\n')"
   ]
  },
  {
   "cell_type": "code",
   "execution_count": 479,
   "metadata": {},
   "outputs": [],
   "source": [
    "psimi2dcid = {}\n",
    "p2d = [line.split(\": \") for line in p2d.split(\"\\n\")]\n",
    "for line in p2d:\n",
    "    psimi2dcid[line[0]] = line[1]"
   ]
  },
  {
   "cell_type": "code",
   "execution_count": 480,
   "metadata": {},
   "outputs": [],
   "source": [
    "with open('schemaMCF.mcf','r') as fp:\n",
    "    schema = fp.read()\n",
    "schema = schema.replace(\"“\",'\"')\n",
    "schema = schema.replace(\"”\",'\"')"
   ]
  },
  {
   "cell_type": "code",
   "execution_count": 481,
   "metadata": {},
   "outputs": [],
   "source": [
    "newSourceMap = {\"references\":{}, \"identifier\":{}, \"confidence\":{}}\n",
    "schemaList = []\n",
    "schemaList.append(schema)\n",
    "wrongDcid = []\n",
    "failed = []\n",
    "noUniprot = []\n",
    "for line in lines:\n",
    "    \n",
    "    if len(line) == 0:\n",
    "        continue\n",
    "        \n",
    "    term = line.split('\\t')\n",
    "    \n",
    "    # check if record has correct UniProt Protein Name\n",
    "    c1, c2 = checkDcid(term[4]), checkDcid(term[5])\n",
    "    \n",
    "    if c1==0 or c2==0:\n",
    "        wrongDcid.append(line)\n",
    "        continue\n",
    "    \n",
    "    # check if record has Uniprot Identifier\n",
    "    u1, u2 = checkUniprot(term[0]), checkUniprot(term[1])\n",
    "    if not u1 or not u2:\n",
    "        noUniprot.append(line)\n",
    "        continue\n",
    "    \n",
    "    try:\n",
    "        schema, newSourceMap = getSchemaFromText(term, newSourceMap)\n",
    "    except:\n",
    "        failed.append(line)\n",
    "        continue\n",
    "        \n",
    "    if schema:\n",
    "        schemaList.append(schema)\n",
    "\n"
   ]
  },
  {
   "cell_type": "code",
   "execution_count": null,
   "metadata": {},
   "outputs": [],
   "source": []
  },
  {
   "cell_type": "code",
   "execution_count": 482,
   "metadata": {},
   "outputs": [
    {
     "data": {
      "text/plain": [
       "129586"
      ]
     },
     "execution_count": 482,
     "metadata": {},
     "output_type": "execute_result"
    }
   ],
   "source": [
    "len(schemaList)"
   ]
  },
  {
   "cell_type": "code",
   "execution_count": 483,
   "metadata": {},
   "outputs": [],
   "source": [
    "schemaEnumText = \"\\n\\n\".join(schemaList[:20])\n",
    "with open('BioMINTSchema2.mcf','w') as fp:\n",
    "    fp.write(schemaEnumText)"
   ]
  },
  {
   "cell_type": "code",
   "execution_count": 383,
   "metadata": {},
   "outputs": [
    {
     "data": {
      "text/plain": [
       "129585"
      ]
     },
     "execution_count": 383,
     "metadata": {},
     "output_type": "execute_result"
    }
   ],
   "source": [
    "# Imported records number\n",
    "len(schemaList)-1"
   ]
  },
  {
   "cell_type": "code",
   "execution_count": 384,
   "metadata": {},
   "outputs": [
    {
     "name": "stdout",
     "output_type": "stream",
     "text": [
      "3540\n",
      "42\n",
      "0\n"
     ]
    }
   ],
   "source": [
    "# the number of records we didn't import\n",
    "fCount = 0\n",
    "for alist in [wrongDcid,noUniprot,failed]:\n",
    "    print(len(alist))\n",
    "    fCount += len(alist)"
   ]
  },
  {
   "cell_type": "code",
   "execution_count": 488,
   "metadata": {},
   "outputs": [],
   "source": [
    "schemaEnumText = \"\\n\\n\".join(schemaList[:20])\n",
    "if wrongDcid:\n",
    "    with open('BioMINTFailedDcid.txt','w') as fp:\n",
    "        fp.write(\"\\n\".join(wrongDcid))\n",
    "if noUniprot:\n",
    "    with open('BioMINTNoUniprot.txt','w') as fp:\n",
    "        fp.write(\"\\n\".join(noUniprot))\n",
    "if failed:\n",
    "    with open('BioMINTParseFailed.txt','w') as fp:\n",
    "        fp.write(\"\\n\".join(failed))\n",
    "\n",
    "writeList = []\n",
    "for sourceType in newSourceMap:\n",
    "    if not newSourceMap[sourceType]: continue\n",
    "    writeList.append(sourceType)\n",
    "    for source in newSourceMap[sourceType]:\n",
    "        line = source + \": \" + newSourceMap[sourceType][source]\n",
    "        writeList.append(sourceType)\n",
    "    writeList.append(\"\\n\")\n",
    "if writeList:\n",
    "    with open('BioMINTNewSource.txt','w') as fp:\n",
    "        fp.write(\"\\n\".join(writeList))"
   ]
  },
  {
   "cell_type": "markdown",
   "metadata": {},
   "source": [
    "## The part below is to show all the source names and examples of confidence, publications and references. "
   ]
  },
  {
   "cell_type": "code",
   "execution_count": null,
   "metadata": {},
   "outputs": [],
   "source": [
    "# the whole schema is too large to upload to dev browser at once. Split into 3 parts.\n",
    "count = 1\n",
    "for i in range(0,len(schemaList), 44375):\n",
    "    schemaEnumText = \"\\n\\n\".join(schemaList[i:i+44375])   \n",
    "    with open('BioMINTSchema_part'+str(count)+'.mcf','w') as fp:\n",
    "        fp.write(schemaEnumText)\n",
    "    count += 1"
   ]
  },
  {
   "cell_type": "code",
   "execution_count": 341,
   "metadata": {},
   "outputs": [],
   "source": [
    "# Show all the publications and identifier source examples.\n",
    "\n",
    "publications = {}\n",
    "identifier = {}\n",
    "pCount = collections.defaultdict(int)\n",
    "iCount = collections.defaultdict(int)\n",
    "for line in lines:\n",
    "    if len(line) == 0:\n",
    "        continue\n",
    "    term = line.split('\\t')\n",
    "    try:\n",
    "        ps = term[8].split(\"|\")\n",
    "    except:\n",
    "        print(term[8])\n",
    "    for p in ps:\n",
    "        if p.split(\":\")[0] not in publications:\n",
    "            publications[p.split(\":\")[0]] = \"\".join(p.split(\":\")[1:])\n",
    "        pCount[p.split(\":\")[0]] += 1\n",
    "    ids = term[13].split(\"|\") \n",
    "    for i in ids:\n",
    "        if i.split(\":\")[0] not in identifier:\n",
    "            identifier[i.split(\":\")[0]] = \"\".join(i.split(\":\")[1:])\n",
    "        iCount[i.split(\":\")[0]] += 1\n"
   ]
  },
  {
   "cell_type": "code",
   "execution_count": 16,
   "metadata": {},
   "outputs": [
    {
     "data": {
      "text/plain": [
       "({'pubmed': '16554755',\n",
       "  'imex': 'IM-15332',\n",
       "  'mint': 'MINT-5218454',\n",
       "  'doi': '10.1046/j.1365-2443.2002.00589',\n",
       "  'rcsb pdb': '4lep'},\n",
       " {'intact': 'EBI-6941860',\n",
       "  'mint': 'MINT-1984371',\n",
       "  'imex': 'IM-15332-8532',\n",
       "  'emdb': 'EMD-1191',\n",
       "  'wwpdb': '3blr',\n",
       "  'psi-mi': '\"MI0471\"',\n",
       "  'rcsb pdb': '1JL4',\n",
       "  'reactome': 'REACT_3482.1',\n",
       "  'pdbe': '4bht'})"
      ]
     },
     "execution_count": 16,
     "metadata": {},
     "output_type": "execute_result"
    }
   ],
   "source": [
    "publications, identifier"
   ]
  },
  {
   "cell_type": "code",
   "execution_count": 18,
   "metadata": {},
   "outputs": [
    {
     "data": {
      "text/plain": [
       "dict_keys(['pubmed', 'imex', 'mint', 'doi', 'rcsb pdb'])"
      ]
     },
     "execution_count": 18,
     "metadata": {},
     "output_type": "execute_result"
    }
   ],
   "source": [
    "publications.keys()"
   ]
  },
  {
   "cell_type": "code",
   "execution_count": 19,
   "metadata": {},
   "outputs": [
    {
     "data": {
      "text/plain": [
       "dict_keys(['intact', 'mint', 'imex', 'emdb', 'wwpdb', 'psi-mi', 'rcsb pdb', 'reactome', 'pdbe'])"
      ]
     },
     "execution_count": 19,
     "metadata": {},
     "output_type": "execute_result"
    }
   ],
   "source": [
    "identifier.keys()"
   ]
  },
  {
   "cell_type": "code",
   "execution_count": 20,
   "metadata": {},
   "outputs": [
    {
     "data": {
      "text/plain": [
       "defaultdict(int,\n",
       "            {'pubmed': 133167,\n",
       "             'imex': 90323,\n",
       "             'mint': 109775,\n",
       "             'doi': 33610,\n",
       "             'rcsb pdb': 9})"
      ]
     },
     "execution_count": 20,
     "metadata": {},
     "output_type": "execute_result"
    }
   ],
   "source": [
    "pCount"
   ]
  },
  {
   "cell_type": "code",
   "execution_count": 21,
   "metadata": {},
   "outputs": [
    {
     "data": {
      "text/plain": [
       "defaultdict(int,\n",
       "            {'intact': 133167,\n",
       "             'mint': 96364,\n",
       "             'imex': 90318,\n",
       "             'emdb': 3,\n",
       "             'wwpdb': 33,\n",
       "             'psi-mi': 4363,\n",
       "             'rcsb pdb': 71,\n",
       "             'reactome': 27,\n",
       "             'pdbe': 1})"
      ]
     },
     "execution_count": 21,
     "metadata": {},
     "output_type": "execute_result"
    }
   ],
   "source": [
    "iCount"
   ]
  },
  {
   "cell_type": "code",
   "execution_count": 37,
   "metadata": {},
   "outputs": [
    {
     "data": {
      "text/plain": [
       "defaultdict(int, {'intact-miscore': 125686, 'author score': 3872})"
      ]
     },
     "execution_count": 37,
     "metadata": {},
     "output_type": "execute_result"
    }
   ],
   "source": [
    "confidenceSetCount"
   ]
  }
 ],
 "metadata": {
  "kernelspec": {
   "display_name": "Python 3",
   "language": "python",
   "name": "python3"
  },
  "language_info": {
   "codemirror_mode": {
    "name": "ipython",
    "version": 3
   },
   "file_extension": ".py",
   "mimetype": "text/x-python",
   "name": "python",
   "nbconvert_exporter": "python",
   "pygments_lexer": "ipython3",
   "version": "3.7.6"
  }
 },
 "nbformat": 4,
 "nbformat_minor": 4
}
