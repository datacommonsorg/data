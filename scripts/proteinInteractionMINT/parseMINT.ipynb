{
 "cells": [
  {
   "cell_type": "code",
   "execution_count": 1,
   "metadata": {},
   "outputs": [],
   "source": [
    "import collections"
   ]
  },
  {
   "cell_type": "code",
   "execution_count": 97,
   "metadata": {},
   "outputs": [],
   "source": [
    "with open('./mint_database', 'r') as fp:\n",
    "    file = fp.read()\n",
    "with open('../proteinInteractionEBI/psimi2dcid.txt','r') as fp:\n",
    "    p2d = fp.read()"
   ]
  },
  {
   "cell_type": "code",
   "execution_count": 98,
   "metadata": {},
   "outputs": [],
   "source": [
    "lines = file.split('\\n')"
   ]
  },
  {
   "cell_type": "code",
   "execution_count": 99,
   "metadata": {},
   "outputs": [],
   "source": [
    "psimi2dcid = {}\n",
    "p2d = [line.split(\": \") for line in p2d.split(\"\\n\")]\n",
    "for line in p2d:\n",
    "    psimi2dcid[line[0]] = line[1]"
   ]
  },
  {
   "cell_type": "code",
   "execution_count": 100,
   "metadata": {},
   "outputs": [],
   "source": [
    "def getProteinDcid(mintAliases):\n",
    "    \"\"\"\n",
    "    Takes a string from the mint database, return the dcid of the protein.\n",
    "    The mintAliases line contains the aliases of the protein. The display_long.upper() is the\n",
    "    dcid of the participant protein.\n",
    "    \"\"\"\n",
    "    return mintAliases.split(\"|\")[0].split(\":\")[1].split('(')[0].upper()"
   ]
  },
  {
   "cell_type": "code",
   "execution_count": 101,
   "metadata": {},
   "outputs": [],
   "source": [
    "def getSchemaFromText(term):\n",
    "    \n",
    "    \"\"\"\n",
    "    Takes a list with each item containing the information, return a data schema. \n",
    "    \"\"\"\n",
    "    termDic = collections.defaultdict(list)   \n",
    "    termDic['interactingProtein'].append(getProteinDcid(term[4]))\n",
    "    termDic['interactingProtein'].append(getProteinDcid(term[5]))\n",
    "    detectionMethod = psimi2dcid[term[6].split(\":\\\"\")[1].split(\"(\")[0][:-1]]\n",
    "    termDic['interactionDetectionMethod'].append(detectionMethod)\n",
    "    termDic['references'] = term[8].split(\"|\")\n",
    "    interactionType = psimi2dcid[term[11].split(\":\\\"\")[1].split(\"(\")[0][:-1]]\n",
    "    termDic['interactionType'].append(interactionType)\n",
    "    interactionSource =  psimi2dcid[term[12].split(\":\\\"\")[1].split(\"(\")[0][:-1]]\n",
    "    termDic['interactionSource'].append(interactionSource)\n",
    "    termDic['identifier'] = term[13].split(\"|\")\n",
    "    termDic['confidence'].append(term[14])\n",
    "\n",
    "    '''\n",
    "    interactingProtein:  ['RPN1_YEAST', 'RPN3_YEAST']\n",
    "    interactionDetectionMethod:  ['TandemAffinityPurification']\n",
    "    references:  ['pubmed:16554755', 'imex:IM-15332', 'mint:MINT-5218454']\n",
    "    interactionType:  ['PhysicalAssociation']\n",
    "    interactionSource:  ['Mint']\n",
    "    identifier:  ['intact:EBI-6941860', 'mint:MINT-1984371', 'imex:IM-15332-8532']\n",
    "    confidence:  ['intact-miscore:0.76']\n",
    "    '''\n",
    "    schemaPieceList = []\n",
    "    keyList = [\"interactingProtein\", \"interactionDetectionMethod\",\"interactionType\",\"interactionSource\",\"confidence\",\"references\"]\n",
    "    \n",
    "    dcid = termDic[\"interactingProtein\"][0] + \"_\" + termDic[\"interactingProtein\"][1]\n",
    "    curLine = \"Node: dcid:\" + dcid\n",
    "    schemaPieceList.append(curLine)\n",
    "    curLine = \"typeOf: ProteinProteinInteraction\"\n",
    "    schemaPieceList.append(curLine)\n",
    "    curLine = \"name: \" + \"\\\"\" + dcid + \"\\\"\"\n",
    "    schemaPieceList.append(curLine)\n",
    "\n",
    "    for key in keyList:\n",
    "            \n",
    "        if key==\"interactingProtein\" and len(termDic[key])>0 :\n",
    "            itemList = []\n",
    "            for i in range(len(termDic[key])):\n",
    "                itemList.append(\"dcs:\" + termDic[key][i])\n",
    "            curLine = \"interactingProtein: \" +  \",\".join(itemList)\n",
    "            schemaPieceList.append(curLine)\n",
    "\n",
    "        elif key==\"interactionDetectionMethod\" and len(termDic[key])>0 :\n",
    "            itemList = []\n",
    "            for i in range(len(termDic[key])):\n",
    "                itemList.append(\"dcs:\" + termDic[key][i])\n",
    "            curLine = \"interactionDetectionMethod: \" +  \",\".join(itemList)\n",
    "            schemaPieceList.append(curLine)\n",
    "            \n",
    "        elif key==\"interactionType\" and len(termDic[key])>0 :\n",
    "            itemList = []\n",
    "            for i in range(len(termDic[key])):\n",
    "                itemList.append(\"dcs:\" + termDic[key][i])\n",
    "            curLine = \"interactionType: \" +  \",\".join(itemList)\n",
    "            schemaPieceList.append(curLine)\n",
    "            \n",
    "        elif key==\"interactionSource\" and len(termDic[key])>0 :\n",
    "            itemList = []\n",
    "            for i in range(len(termDic[key])):\n",
    "                itemList.append(\"dcs:\" + termDic[key][i])\n",
    "            curLine = \"interactionSource: \" +  \",\".join(itemList)\n",
    "            schemaPieceList.append(curLine)\n",
    "            \n",
    "        elif key==\"references\" and len(termDic[key])>0:\n",
    "            itemList = []\n",
    "            for i in range(len(termDic[key])):\n",
    "                itemList.append( \"\\\"\" + termDic[key][i] + \"\\\"\")\n",
    "            curLine = \"references: \" +  \",\".join(itemList)\n",
    "            schemaPieceList.append(curLine)\n",
    "            \n",
    "        elif key==\"confidence\" and len(termDic[key])>0:       \n",
    "            curLine = \"confidence: \\\"\" + termDic[key][0] + \"\\\"\"\n",
    "            schemaPieceList.append(curLine)\n",
    "\n",
    "\n",
    "    return \"\\n\".join(schemaPieceList)"
   ]
  },
  {
   "cell_type": "code",
   "execution_count": 109,
   "metadata": {},
   "outputs": [],
   "source": [
    "schemaList = []\n",
    "schema='''Node: dcid:ProteinProteinInteraction\\nname: \"ProteinProteinInteraction\"\\ntypeOf: schema:Class\\nsubClassOf: schema:Thing\\ndescription: \"The Interaction between proteins.\"\\n\\nNode: dcid:interactingProtein\\ntypeOf: schema:Property\\nname: \"interactingProtein\"\\ndescription: \"The participant proteins in protein-protein interaction.\"\\nrangeIncludes: dcs:Protein\\ndomainIncludes: dcs:ProteinProteinInteraction\\n\\nNode: dcid:interactionDetectionMethod\\ntypeOf: schema:Property\\nname: \"interactionDetectionMethod\"\\ndescription: \"The interaction detection method used in the experiment\"\\nrangeIncludes: dcs:InteractionDetectionMethodEnum\\ndomainIncludes: dcs:ProteinProteinInteraction\\n\\nNode: dcid:interactionType\\ntypeOf: schema:Property\\nname: \"interactionType\"\\ndescription: \"The molecular interaction type\"\\nrangeIncludes: dcs:InteractionTypeEnum\\ndomainIncludes: dcs:ProteinProteinInteraction\\n\\nNode: dcid:interactionSource\\ntypeOf: schema:Property\\nname: \"interactionSource\"\\ndescription: \"The database where the interaction record extracted\"\\nrangeIncludes: dcs:InteractionSourceEnum\\ndomainIncludes: dcs:ProteinProteinInteraction'''\n",
    "schemaList.append(schema)\n",
    "oneProteinInteraction = []\n",
    "for idx,line in enumerate(lines):\n",
    "    if len(line) == 0:\n",
    "        continue\n",
    "    term = line.split('\\t')\n",
    "    try:\n",
    "        schema = getSchemaFromText(term)\n",
    "    except:\n",
    "        oneProteinInteraction.append(line)\n",
    "        continue\n",
    "        \n",
    "    if schema:\n",
    "        schemaList.append(schema)\n",
    "\n",
    "schemaEnumText = \"\\n\\n\".join(schemaList)"
   ]
  },
  {
   "cell_type": "code",
   "execution_count": 112,
   "metadata": {},
   "outputs": [],
   "source": [
    "with open('BioMINTSchema.mcf','w') as fp:\n",
    "    fp.write(schemaEnumText)"
   ]
  },
  {
   "cell_type": "code",
   "execution_count": 110,
   "metadata": {},
   "outputs": [
    {
     "data": {
      "text/plain": [
       "133125"
      ]
     },
     "execution_count": 110,
     "metadata": {},
     "output_type": "execute_result"
    }
   ],
   "source": [
    "len(schemaList)"
   ]
  },
  {
   "cell_type": "code",
   "execution_count": 57,
   "metadata": {},
   "outputs": [],
   "source": [
    "s = '''Node: dcid:ProteinProteinInteraction\n",
    "name: \"ProteinProteinInteraction\"\n",
    "typeOf: schema:Class\n",
    "subClassOf: schema:Thing\n",
    "description: \"The Interaction between proteins.\"\n",
    "\n",
    "Node: dcid:interactingProtein\n",
    "typeOf: schema:Property\n",
    "name: \"interactingProtein\"\n",
    "description: \"The participant proteins in protein-protein interaction.\"\n",
    "rangeIncludes: dcs:Protein\n",
    "domainIncludes: dcs:ProteinProteinInteraction\n",
    "\n",
    "Node: dcid:interactionDetectionMethod\n",
    "typeOf: schema:Property\n",
    "name: \"interactionDetectionMethod\"\n",
    "description: \"The interaction detection method used in the experiment\"\n",
    "rangeIncludes: dcs:InteractionDetectionMethodEnum\n",
    "domainIncludes: dcs:ProteinProteinInteraction\n",
    "\n",
    "Node: dcid:interactionType\n",
    "typeOf: schema:Property\n",
    "name: \"interactionType\"\n",
    "description: \"The molecular interaction type\"\n",
    "rangeIncludes: dcs:InteractionTypeEnum\n",
    "domainIncludes: dcs:ProteinProteinInteraction\n",
    "\n",
    "Node: dcid:interactionSource\n",
    "typeOf: schema:Property\n",
    "name: \"interactionSource\"\n",
    "description: \"The database where the interaction record extracted\"\n",
    "rangeIncludes: dcs:InteractionSourceEnum\n",
    "domainIncludes: dcs:ProteinProteinInteraction'''"
   ]
  },
  {
   "cell_type": "code",
   "execution_count": 111,
   "metadata": {},
   "outputs": [],
   "source": [
    "news = s.replace(\"“\",\"\\\"\")\n",
    "nnews = news.replace(\"”\",\"\\\"\")"
   ]
  },
  {
   "cell_type": "code",
   "execution_count": 59,
   "metadata": {},
   "outputs": [
    {
     "data": {
      "text/plain": [
       "'Node: dcid:ProteinProteinInteraction\\nname: \"ProteinProteinInteraction\"\\ntypeOf: schema:Class\\nsubClassOf: schema:Thing\\ndescription: \"The Interaction between proteins.\"\\n\\nNode: dcid:interactingProtein\\ntypeOf: schema:Property\\nname: \"interactingProtein\"\\ndescription: \"The participant proteins in protein-protein interaction.\"\\nrangeIncludes: dcs:Protein\\ndomainIncludes: dcs:ProteinProteinInteraction\\n\\nNode: dcid:interactionDetectionMethod\\ntypeOf: schema:Property\\nname: \"interactionDetectionMethod\"\\ndescription: \"The interaction detection method used in the experiment\"\\nrangeIncludes: dcs:InteractionDetectionMethodEnum\\ndomainIncludes: dcs:ProteinProteinInteraction\\n\\nNode: dcid:interactionType\\ntypeOf: schema:Property\\nname: \"interactionType\"\\ndescription: \"The molecular interaction type\"\\nrangeIncludes: dcs:InteractionTypeEnum\\ndomainIncludes: dcs:ProteinProteinInteraction\\n\\nNode: dcid:interactionSource\\ntypeOf: schema:Property\\nname: \"interactionSource\"\\ndescription: \"The database where the interaction record extracted\"\\nrangeIncludes: dcs:InteractionSourceEnum\\ndomainIncludes: dcs:ProteinProteinInteraction'"
      ]
     },
     "execution_count": 59,
     "metadata": {},
     "output_type": "execute_result"
    }
   ],
   "source": [
    "nnews"
   ]
  },
  {
   "cell_type": "code",
   "execution_count": null,
   "metadata": {},
   "outputs": [],
   "source": []
  }
 ],
 "metadata": {
  "kernelspec": {
   "display_name": "Python 3",
   "language": "python",
   "name": "python3"
  },
  "language_info": {
   "codemirror_mode": {
    "name": "ipython",
    "version": 3
   },
   "file_extension": ".py",
   "mimetype": "text/x-python",
   "name": "python",
   "nbconvert_exporter": "python",
   "pygments_lexer": "ipython3",
   "version": "3.7.6"
  }
 },
 "nbformat": 4,
 "nbformat_minor": 4
}
